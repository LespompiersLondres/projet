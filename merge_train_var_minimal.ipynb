{
 "cells": [
  {
   "cell_type": "code",
   "execution_count": 5,
   "id": "b6184662-9d25-4cf0-8e4d-b8802fafa97f",
   "metadata": {},
   "outputs": [],
   "source": [
    "import numpy as np\n",
    "import pandas as pd\n",
    "from sklearn.model_selection import train_test_split\n",
    "from sklearn import neighbors\n",
    "from sklearn import svm\n",
    "from sklearn import ensemble\n",
    "from sklearn.metrics import accuracy_score\n",
    "from sklearn.ensemble import RandomForestRegressor\n",
    "\n",
    "merged_df=pd.read_csv(\"/home/user/Bureau/dataScientest/projet_pompiers_Londres/data/merged.csv\")\n",
    "\n",
    "merged_df=merged_df[['TravelTimeSeconds', 'HourOfCall', 'CalYear']]\n",
    "merged_df=merged_df.dropna()\n",
    "\n",
    "merged_df.to_csv('/home/user/Bureau/dataScientest/projet_pompiers_Londres/data/merged_var_minimum.csv', index=False)\n",
    "\n",
    "target=merged_df['TravelTimeSeconds'] \n",
    "df_train=merged_df[['HourOfCall', 'CalYear']]\n",
    "\n",
    "X_train, X_test, y_train, y_test = train_test_split(df_train, target, test_size=0.2)"
   ]
  },
  {
   "cell_type": "code",
   "execution_count": 2,
   "id": "ead1a0cc-5ec1-4f81-8dc7-9ab2ea664f42",
   "metadata": {},
   "outputs": [
    {
     "name": "stdout",
     "output_type": "stream",
     "text": [
      "KNeighborsRegressor score: 0.0013687879530387415\n"
     ]
    }
   ],
   "source": [
    "score_knn=[]\n",
    "\n",
    "for k in range(2, 41):\n",
    "\tknn=neighbors.KNeighborsRegressor(n_neighbors=k)\n",
    "\tknn.fit(X_train, y_train)\n",
    "\tscore_knn.append(knn.score(X_test, y_test))\n",
    "\t\n",
    "\n",
    "y_knn = knn.predict(X_test)\n",
    "\n",
    "\n",
    "knn_score = knn.score(X_train, y_train)\n",
    "print(\"KNeighborsRegressor score:\", knn_score) "
   ]
  },
  {
   "cell_type": "code",
   "execution_count": 3,
   "id": "4707f61f-0b73-4303-8c49-063ca1e132df",
   "metadata": {},
   "outputs": [
    {
     "name": "stdout",
     "output_type": "stream",
     "text": [
      "RandomForestRegressor score: 0.01570339675476984\n"
     ]
    }
   ],
   "source": [
    "clf = RandomForestRegressor(max_depth=2, random_state=0)\n",
    "clf.fit(X_train, y_train)\n",
    "\n",
    "y_randomForest = clf.predict(X_test)\n",
    "\n",
    "randomForest_score = clf.score(X_train, y_train)\n",
    "print(\"RandomForestRegressor score:\", randomForest_score) "
   ]
  }
 ],
 "metadata": {
  "kernelspec": {
   "display_name": "Python 3 (ipykernel)",
   "language": "python",
   "name": "python3"
  },
  "language_info": {
   "codemirror_mode": {
    "name": "ipython",
    "version": 3
   },
   "file_extension": ".py",
   "mimetype": "text/x-python",
   "name": "python",
   "nbconvert_exporter": "python",
   "pygments_lexer": "ipython3",
   "version": "3.10.12"
  }
 },
 "nbformat": 4,
 "nbformat_minor": 5
}
