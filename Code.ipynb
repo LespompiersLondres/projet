{
 "cells": [
  {
   "cell_type": "code",
   "execution_count": null,
   "id": "e8723e7e",
   "metadata": {},
   "outputs": [],
   "source": [
    "import numpy as np\n",
    "import pandas as pd\n",
    "Incident=pd.read_csv(r\"C:\\Users\\agrabia\\Documents\\Formation\\Projet/LFB Incident data Last 3 years.csv\")\n",
    "Mobilisation=pd.read_csv(r\"C:\\Users\\agrabia\\Documents\\Formation\\Projet/LFB Mobilisation data Last 3 years.csv\", sep=';')"
   ]
  },
  {
   "cell_type": "code",
   "execution_count": null,
   "id": "86d4f837",
   "metadata": {},
   "outputs": [],
   "source": [
    "Incident.info()"
   ]
  },
  {
   "cell_type": "code",
   "execution_count": null,
   "id": "5fd78989",
   "metadata": {},
   "outputs": [],
   "source": [
    "Mobilisation.info()"
   ]
  },
  {
   "cell_type": "code",
   "execution_count": null,
   "id": "6da9ec8f",
   "metadata": {},
   "outputs": [],
   "source": [
    "import matplotlib.pyplot as plt\n",
    "import seaborn as sns\n",
    "Incident['IncidentGroup'].value_counts(normalize=True).plot(kind='pie')\n",
    "plt.show;"
   ]
  },
  {
   "cell_type": "code",
   "execution_count": null,
   "id": "1d58f869",
   "metadata": {},
   "outputs": [],
   "source": [
    "Incident['DateOfCall'].hist(density=True)\n",
    "plt.show;"
   ]
  },
  {
   "cell_type": "code",
   "execution_count": null,
   "id": "20695f7a",
   "metadata": {},
   "outputs": [],
   "source": [
    "Incident['CalYear'].value_counts(normalize=True).plot(kind='bar')\n",
    "plt.show;"
   ]
  },
  {
   "cell_type": "code",
   "execution_count": null,
   "id": "358e72e1",
   "metadata": {},
   "outputs": [],
   "source": [
    "Incident['StopCodeDescription'].value_counts(normalize=True).plot(kind='bar')\n",
    "plt.show;"
   ]
  },
  {
   "cell_type": "code",
   "execution_count": null,
   "id": "7507fdff",
   "metadata": {},
   "outputs": [],
   "source": [
    "Incident['SpecialServiceType'].value_counts(normalize=True).plot(kind='bar')\n",
    "plt.show;"
   ]
  },
  {
   "cell_type": "code",
   "execution_count": null,
   "id": "5f295417",
   "metadata": {},
   "outputs": [],
   "source": [
    "Incident['PropertyCategory'].value_counts(normalize=True).plot(kind='bar')\n",
    "plt.show;"
   ]
  },
  {
   "cell_type": "code",
   "execution_count": null,
   "id": "4e8a52ab",
   "metadata": {},
   "outputs": [],
   "source": [
    "Incident['PropertyType'].value_counts(normalize=True).plot(kind='bar')\n",
    "plt.show;"
   ]
  },
  {
   "cell_type": "code",
   "execution_count": null,
   "id": "59e53984",
   "metadata": {},
   "outputs": [],
   "source": [
    "Incident['AddressQualifier'].value_counts(normalize=True).plot(kind='bar')\n",
    "plt.show;"
   ]
  },
  {
   "cell_type": "code",
   "execution_count": null,
   "id": "5eaa4d6a",
   "metadata": {},
   "outputs": [],
   "source": [
    "Incident['Postcode_district'].value_counts(normalize=True).plot(kind='bar')\n",
    "plt.show;"
   ]
  },
  {
   "cell_type": "code",
   "execution_count": null,
   "id": "b06f91bf",
   "metadata": {},
   "outputs": [],
   "source": [
    "Incident['IncGeo_BoroughCode'].value_counts(normalize=True).plot(kind='bar')\n",
    "plt.show;"
   ]
  },
  {
   "cell_type": "code",
   "execution_count": null,
   "id": "2e85bef9",
   "metadata": {},
   "outputs": [],
   "source": [
    "Incident['IncGeo_BoroughName'].value_counts(normalize=True).plot(kind='bar')\n",
    "plt.show;"
   ]
  },
  {
   "cell_type": "code",
   "execution_count": null,
   "id": "332604d9",
   "metadata": {},
   "outputs": [],
   "source": [
    "Incident['ProperCase'].value_counts(normalize=True).plot(kind='bar')\n",
    "plt.show;"
   ]
  },
  {
   "cell_type": "code",
   "execution_count": null,
   "id": "c747d8a9",
   "metadata": {},
   "outputs": [],
   "source": [
    "Incident['IncGeo_WardCode'].value_counts(normalize=True).plot(kind='bar')\n",
    "plt.show;"
   ]
  },
  {
   "cell_type": "code",
   "execution_count": null,
   "id": "bb81f132",
   "metadata": {},
   "outputs": [],
   "source": [
    "Incident['Easting_rounded'].value_counts(normalize=True).plot(kind='bar')\n",
    "plt.show;"
   ]
  },
  {
   "cell_type": "code",
   "execution_count": null,
   "id": "72e752f7",
   "metadata": {},
   "outputs": [],
   "source": [
    "Incident['IncidentStationGround'].value_counts(normalize=True).plot(kind='bar')\n",
    "plt.show;"
   ]
  },
  {
   "cell_type": "code",
   "execution_count": null,
   "id": "e7563bf8",
   "metadata": {},
   "outputs": [],
   "source": [
    "Incident['FirstPumpArriving_AttendanceTime'].value_counts(normalize=True).plot(kind='bar')\n",
    "plt.show;"
   ]
  },
  {
   "cell_type": "code",
   "execution_count": null,
   "id": "b450144e",
   "metadata": {},
   "outputs": [],
   "source": [
    "Incident['FirstPumpArriving_AttendanceTime'].describe()"
   ]
  },
  {
   "cell_type": "code",
   "execution_count": null,
   "id": "5558f5c9",
   "metadata": {},
   "outputs": [],
   "source": [
    "Incident['SecondPumpArriving_AttendanceTime'].describe()"
   ]
  },
  {
   "cell_type": "code",
   "execution_count": null,
   "id": "4d2e817d",
   "metadata": {},
   "outputs": [],
   "source": [
    "Incident['NumStationsWithPumpsAttending'].value_counts(normalize=True).plot(kind='pie')\n",
    "plt.show;"
   ]
  },
  {
   "cell_type": "code",
   "execution_count": null,
   "id": "555c1ec7",
   "metadata": {},
   "outputs": [],
   "source": [
    "Incident['NumPumpsAttending'].value_counts(normalize=True).plot(kind='pie')\n",
    "plt.show;"
   ]
  },
  {
   "cell_type": "code",
   "execution_count": null,
   "id": "7dacc67e",
   "metadata": {},
   "outputs": [],
   "source": [
    "Incident['PumpHoursRoundUp'].value_counts(normalize=True).plot(kind='pie')\n",
    "plt.show;"
   ]
  },
  {
   "cell_type": "code",
   "execution_count": null,
   "id": "025167cc",
   "metadata": {},
   "outputs": [],
   "source": [
    "Incident['Notional Cost (£)'].describe()"
   ]
  },
  {
   "cell_type": "code",
   "execution_count": null,
   "id": "7ec39d50",
   "metadata": {},
   "outputs": [],
   "source": [
    "Incident['NumCalls'].value_counts(normalize=True).plot(kind='pie')\n",
    "plt.show;"
   ]
  },
  {
   "cell_type": "code",
   "execution_count": null,
   "id": "d8cb7f47",
   "metadata": {},
   "outputs": [],
   "source": [
    "Incident['HourOfCall'].value_counts(normalize=True).plot(kind='bar')\n",
    "plt.show;"
   ]
  },
  {
   "cell_type": "code",
   "execution_count": null,
   "id": "0f846004",
   "metadata": {},
   "outputs": [],
   "source": [
    "Mobilisation['Resource_Code'].value_counts(normalize=True).plot(kind='bar')\n",
    "plt.show;"
   ]
  },
  {
   "cell_type": "code",
   "execution_count": null,
   "id": "6bced63a",
   "metadata": {},
   "outputs": [],
   "source": [
    "Mobilisation['PerformanceReporting'].value_counts(normalize=True).plot(kind='pie')\n",
    "plt.show;"
   ]
  },
  {
   "cell_type": "code",
   "execution_count": null,
   "id": "7e63463d",
   "metadata": {},
   "outputs": [],
   "source": [
    "Mobilisation['TurnoutTimeSeconds'].value_counts(normalize=True).plot(kind='bar')\n",
    "plt.show;"
   ]
  },
  {
   "cell_type": "code",
   "execution_count": null,
   "id": "195a73cd",
   "metadata": {},
   "outputs": [],
   "source": [
    "Mobilisation['TurnoutTimeSeconds'].describe()"
   ]
  },
  {
   "cell_type": "code",
   "execution_count": null,
   "id": "e7420a0a",
   "metadata": {},
   "outputs": [],
   "source": [
    "Mobilisation['TravelTimeSeconds'].describe()"
   ]
  },
  {
   "cell_type": "code",
   "execution_count": null,
   "id": "f0b94b68",
   "metadata": {},
   "outputs": [],
   "source": [
    "Mobilisation['AttendanceTimeSeconds'].describe()"
   ]
  },
  {
   "cell_type": "code",
   "execution_count": null,
   "id": "c31862ed",
   "metadata": {},
   "outputs": [],
   "source": [
    "Mobilisation['DeployedFromStation_Code'].value_counts(normalize=True).plot(kind='bar')\n",
    "plt.show;"
   ]
  },
  {
   "cell_type": "code",
   "execution_count": null,
   "id": "62cf5bb4",
   "metadata": {},
   "outputs": [],
   "source": [
    "Mobilisation['DeployedFromLocation'].value_counts(normalize=True).plot(kind='bar')\n",
    "plt.show;"
   ]
  },
  {
   "cell_type": "code",
   "execution_count": null,
   "id": "ed95fc9d",
   "metadata": {},
   "outputs": [],
   "source": [
    "Mobilisation['PlusCode_Code'].value_counts(normalize=True).plot(kind='bar')\n",
    "plt.show;"
   ]
  },
  {
   "cell_type": "code",
   "execution_count": null,
   "id": "2b950a3e",
   "metadata": {},
   "outputs": [],
   "source": [
    "Mobilisation['PlusCode_Description'].value_counts(normalize=True).plot(kind='bar')\n",
    "plt.show;"
   ]
  },
  {
   "cell_type": "code",
   "execution_count": null,
   "id": "008df949",
   "metadata": {},
   "outputs": [],
   "source": [
    "Mobilisation['DelayCodeId'].value_counts(normalize=True).plot(kind='bar')\n",
    "plt.show;"
   ]
  },
  {
   "cell_type": "code",
   "execution_count": null,
   "id": "af190d8a",
   "metadata": {},
   "outputs": [],
   "source": [
    "Mobilisation['DelayCode_Description'].value_counts(normalize=True).plot(kind='bar')\n",
    "plt.show;"
   ]
  }
 ],
 "metadata": {
  "kernelspec": {
   "display_name": "Python 3 (ipykernel)",
   "language": "python",
   "name": "python3"
  },
  "language_info": {
   "codemirror_mode": {
    "name": "ipython",
    "version": 3
   },
   "file_extension": ".py",
   "mimetype": "text/x-python",
   "name": "python",
   "nbconvert_exporter": "python",
   "pygments_lexer": "ipython3",
   "version": "3.10.9"
  }
 },
 "nbformat": 4,
 "nbformat_minor": 5
}
