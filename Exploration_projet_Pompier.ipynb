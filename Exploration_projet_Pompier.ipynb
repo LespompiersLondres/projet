{
 "cells": [
  {
   "cell_type": "markdown",
   "metadata": {},
   "source": [
    "# HOUANDJAN ANOMAKA ARTHUR"
   ]
  },
  {
   "cell_type": "markdown",
   "metadata": {},
   "source": [
    "## Analyses descriptives\n",
    "\n",
    "#### L'objectif de cette analyse est de parcourir les différentes(02) bases de données dans le but de décéler les informations pertinentes qui nous permettront de choisir la direction dans laquelle nous souhaitons nous orientés (sujet de modélisation).\n",
    "\n",
    "Nous avons deux bases de données différentes : \n",
    "* Une base des incidents qui décrit les détails de chaque incident auquel ont assisté les pompiers de Londres depuis le 1er janvier 2009. Les informations sont fournies pour savoir quand et où l'incident s'est produit et le type d'incident.\n",
    "\n",
    "\n",
    "* Une base des mobilisations qui contient les détails de chaque camion de pompiers (appareil de pompage) envoyé sur un incident depuis janvier 2009. Les informations sont fournies pour l'appareil mobilisé, d'où il a été déployé et les heures enregistrées pour arriver à l'incident"
   ]
  },
  {
   "cell_type": "markdown",
   "metadata": {},
   "source": [
    "#### 1. Lecture et vérification les données\n",
    "- 1.1 Lecture des tables"
   ]
  },
  {
   "cell_type": "code",
   "execution_count": null,
   "metadata": {},
   "outputs": [],
   "source": []
  },
  {
   "cell_type": "code",
   "execution_count": null,
   "metadata": {},
   "outputs": [],
   "source": []
  },
  {
   "cell_type": "markdown",
   "metadata": {},
   "source": [
    "Importation des outils nécessaires"
   ]
  },
  {
   "cell_type": "code",
   "execution_count": 1,
   "metadata": {},
   "outputs": [],
   "source": [
    "import pandas as pd\n",
    "import numpy as np\n",
    "import matplotlib.pyplot as plt\n",
    "plt.style.use('ggplot')\n",
    "%matplotlib inline\n",
    "import seaborn as sns\n",
    "from collections import Counter\n",
    "\n",
    "import warnings\n",
    "import os\n",
    "warnings.filterwarnings('ignore') # Filtration des erreurs pas pertinentes "
   ]
  },
  {
   "cell_type": "markdown",
   "metadata": {},
   "source": [
    "Importation et lecture des bases de données. "
   ]
  },
  {
   "cell_type": "code",
   "execution_count": 2,
   "metadata": {},
   "outputs": [],
   "source": [
    "dfa = pd.read_csv(\"LFB Incident data Last 3 years.csv\",sep=\",\")\n",
    "dfb =pd.read_excel(\"LFB Mobilisation data Last 3 years.xlsx\")"
   ]
  },
  {
   "cell_type": "markdown",
   "metadata": {},
   "source": [
    "## 1.1 Exploration de la base des incidents"
   ]
  },
  {
   "cell_type": "code",
   "execution_count": 10,
   "metadata": {},
   "outputs": [
    {
     "data": {
      "text/html": [
       "<div>\n",
       "<style scoped>\n",
       "    .dataframe tbody tr th:only-of-type {\n",
       "        vertical-align: middle;\n",
       "    }\n",
       "\n",
       "    .dataframe tbody tr th {\n",
       "        vertical-align: top;\n",
       "    }\n",
       "\n",
       "    .dataframe thead th {\n",
       "        text-align: right;\n",
       "    }\n",
       "</style>\n",
       "<table border=\"1\" class=\"dataframe\">\n",
       "  <thead>\n",
       "    <tr style=\"text-align: right;\">\n",
       "      <th></th>\n",
       "      <th>IncidentNumber</th>\n",
       "      <th>DateOfCall</th>\n",
       "      <th>CalYear</th>\n",
       "      <th>TimeOfCall</th>\n",
       "      <th>HourOfCall</th>\n",
       "      <th>IncidentGroup</th>\n",
       "      <th>StopCodeDescription</th>\n",
       "      <th>SpecialServiceType</th>\n",
       "      <th>PropertyCategory</th>\n",
       "      <th>PropertyType</th>\n",
       "      <th>...</th>\n",
       "      <th>FirstPumpArriving_AttendanceTime</th>\n",
       "      <th>FirstPumpArriving_DeployedFromStation</th>\n",
       "      <th>SecondPumpArriving_AttendanceTime</th>\n",
       "      <th>SecondPumpArriving_DeployedFromStation</th>\n",
       "      <th>NumStationsWithPumpsAttending</th>\n",
       "      <th>NumPumpsAttending</th>\n",
       "      <th>PumpCount</th>\n",
       "      <th>PumpHoursRoundUp</th>\n",
       "      <th>Notional Cost (£)</th>\n",
       "      <th>NumCalls</th>\n",
       "    </tr>\n",
       "  </thead>\n",
       "  <tbody>\n",
       "    <tr>\n",
       "      <td>0</td>\n",
       "      <td>000001-01012020</td>\n",
       "      <td>01 Jan 2020</td>\n",
       "      <td>2020</td>\n",
       "      <td>00:02:11</td>\n",
       "      <td>0</td>\n",
       "      <td>Special Service</td>\n",
       "      <td>Special Service</td>\n",
       "      <td>Lift Release</td>\n",
       "      <td>Dwelling</td>\n",
       "      <td>Purpose Built Flats/Maisonettes - 4 to 9 storeys</td>\n",
       "      <td>...</td>\n",
       "      <td>NaN</td>\n",
       "      <td>NaN</td>\n",
       "      <td>NaN</td>\n",
       "      <td>NaN</td>\n",
       "      <td>1.0</td>\n",
       "      <td>1.0</td>\n",
       "      <td>1.0</td>\n",
       "      <td>1.0</td>\n",
       "      <td>339.0</td>\n",
       "      <td>3.0</td>\n",
       "    </tr>\n",
       "    <tr>\n",
       "      <td>1</td>\n",
       "      <td>000003-01012020</td>\n",
       "      <td>01 Jan 2020</td>\n",
       "      <td>2020</td>\n",
       "      <td>00:06:30</td>\n",
       "      <td>0</td>\n",
       "      <td>Fire</td>\n",
       "      <td>Primary Fire</td>\n",
       "      <td>NaN</td>\n",
       "      <td>Non Residential</td>\n",
       "      <td>Private Garden Shed</td>\n",
       "      <td>...</td>\n",
       "      <td>324.0</td>\n",
       "      <td>Hillingdon</td>\n",
       "      <td>292.0</td>\n",
       "      <td>Hillingdon</td>\n",
       "      <td>1.0</td>\n",
       "      <td>2.0</td>\n",
       "      <td>2.0</td>\n",
       "      <td>1.0</td>\n",
       "      <td>339.0</td>\n",
       "      <td>3.0</td>\n",
       "    </tr>\n",
       "    <tr>\n",
       "      <td>2</td>\n",
       "      <td>000004-01012020</td>\n",
       "      <td>01 Jan 2020</td>\n",
       "      <td>2020</td>\n",
       "      <td>00:07:07</td>\n",
       "      <td>0</td>\n",
       "      <td>Special Service</td>\n",
       "      <td>Special Service</td>\n",
       "      <td>Lift Release</td>\n",
       "      <td>Dwelling</td>\n",
       "      <td>Purpose Built Flats/Maisonettes - 4 to 9 storeys</td>\n",
       "      <td>...</td>\n",
       "      <td>NaN</td>\n",
       "      <td>NaN</td>\n",
       "      <td>NaN</td>\n",
       "      <td>NaN</td>\n",
       "      <td>1.0</td>\n",
       "      <td>1.0</td>\n",
       "      <td>1.0</td>\n",
       "      <td>1.0</td>\n",
       "      <td>339.0</td>\n",
       "      <td>1.0</td>\n",
       "    </tr>\n",
       "    <tr>\n",
       "      <td>3</td>\n",
       "      <td>000008-01012020</td>\n",
       "      <td>01 Jan 2020</td>\n",
       "      <td>2020</td>\n",
       "      <td>00:11:05</td>\n",
       "      <td>0</td>\n",
       "      <td>False Alarm</td>\n",
       "      <td>AFA</td>\n",
       "      <td>NaN</td>\n",
       "      <td>Non Residential</td>\n",
       "      <td>Telephone exchange</td>\n",
       "      <td>...</td>\n",
       "      <td>195.0</td>\n",
       "      <td>Richmond</td>\n",
       "      <td>NaN</td>\n",
       "      <td>NaN</td>\n",
       "      <td>1.0</td>\n",
       "      <td>1.0</td>\n",
       "      <td>1.0</td>\n",
       "      <td>1.0</td>\n",
       "      <td>339.0</td>\n",
       "      <td>1.0</td>\n",
       "    </tr>\n",
       "    <tr>\n",
       "      <td>4</td>\n",
       "      <td>000009-01012020</td>\n",
       "      <td>01 Jan 2020</td>\n",
       "      <td>2020</td>\n",
       "      <td>00:11:16</td>\n",
       "      <td>0</td>\n",
       "      <td>Fire</td>\n",
       "      <td>Secondary Fire</td>\n",
       "      <td>NaN</td>\n",
       "      <td>Outdoor Structure</td>\n",
       "      <td>Small refuse/rubbish container</td>\n",
       "      <td>...</td>\n",
       "      <td>426.0</td>\n",
       "      <td>Edmonton</td>\n",
       "      <td>NaN</td>\n",
       "      <td>NaN</td>\n",
       "      <td>1.0</td>\n",
       "      <td>1.0</td>\n",
       "      <td>1.0</td>\n",
       "      <td>1.0</td>\n",
       "      <td>339.0</td>\n",
       "      <td>1.0</td>\n",
       "    </tr>\n",
       "  </tbody>\n",
       "</table>\n",
       "<p>5 rows × 39 columns</p>\n",
       "</div>"
      ],
      "text/plain": [
       "    IncidentNumber   DateOfCall  CalYear TimeOfCall  HourOfCall  \\\n",
       "0  000001-01012020  01 Jan 2020     2020   00:02:11           0   \n",
       "1  000003-01012020  01 Jan 2020     2020   00:06:30           0   \n",
       "2  000004-01012020  01 Jan 2020     2020   00:07:07           0   \n",
       "3  000008-01012020  01 Jan 2020     2020   00:11:05           0   \n",
       "4  000009-01012020  01 Jan 2020     2020   00:11:16           0   \n",
       "\n",
       "     IncidentGroup StopCodeDescription SpecialServiceType   PropertyCategory  \\\n",
       "0  Special Service     Special Service       Lift Release           Dwelling   \n",
       "1             Fire        Primary Fire                NaN    Non Residential   \n",
       "2  Special Service     Special Service       Lift Release           Dwelling   \n",
       "3      False Alarm                 AFA                NaN    Non Residential   \n",
       "4             Fire      Secondary Fire                NaN  Outdoor Structure   \n",
       "\n",
       "                                        PropertyType  ...  \\\n",
       "0  Purpose Built Flats/Maisonettes - 4 to 9 storeys   ...   \n",
       "1                               Private Garden Shed   ...   \n",
       "2  Purpose Built Flats/Maisonettes - 4 to 9 storeys   ...   \n",
       "3                                 Telephone exchange  ...   \n",
       "4                     Small refuse/rubbish container  ...   \n",
       "\n",
       "  FirstPumpArriving_AttendanceTime FirstPumpArriving_DeployedFromStation  \\\n",
       "0                              NaN                                   NaN   \n",
       "1                            324.0                            Hillingdon   \n",
       "2                              NaN                                   NaN   \n",
       "3                            195.0                              Richmond   \n",
       "4                            426.0                              Edmonton   \n",
       "\n",
       "  SecondPumpArriving_AttendanceTime  SecondPumpArriving_DeployedFromStation  \\\n",
       "0                               NaN                                     NaN   \n",
       "1                             292.0                              Hillingdon   \n",
       "2                               NaN                                     NaN   \n",
       "3                               NaN                                     NaN   \n",
       "4                               NaN                                     NaN   \n",
       "\n",
       "   NumStationsWithPumpsAttending NumPumpsAttending PumpCount PumpHoursRoundUp  \\\n",
       "0                            1.0               1.0       1.0              1.0   \n",
       "1                            1.0               2.0       2.0              1.0   \n",
       "2                            1.0               1.0       1.0              1.0   \n",
       "3                            1.0               1.0       1.0              1.0   \n",
       "4                            1.0               1.0       1.0              1.0   \n",
       "\n",
       "  Notional Cost (£) NumCalls  \n",
       "0             339.0      3.0  \n",
       "1             339.0      3.0  \n",
       "2             339.0      1.0  \n",
       "3             339.0      1.0  \n",
       "4             339.0      1.0  \n",
       "\n",
       "[5 rows x 39 columns]"
      ]
     },
     "execution_count": 10,
     "metadata": {},
     "output_type": "execute_result"
    }
   ],
   "source": [
    "dfa.head()"
   ]
  },
  {
   "cell_type": "code",
   "execution_count": 11,
   "metadata": {},
   "outputs": [
    {
     "data": {
      "text/html": [
       "<div>\n",
       "<style scoped>\n",
       "    .dataframe tbody tr th:only-of-type {\n",
       "        vertical-align: middle;\n",
       "    }\n",
       "\n",
       "    .dataframe tbody tr th {\n",
       "        vertical-align: top;\n",
       "    }\n",
       "\n",
       "    .dataframe thead th {\n",
       "        text-align: right;\n",
       "    }\n",
       "</style>\n",
       "<table border=\"1\" class=\"dataframe\">\n",
       "  <thead>\n",
       "    <tr style=\"text-align: right;\">\n",
       "      <th></th>\n",
       "      <th>CalYear</th>\n",
       "      <th>HourOfCall</th>\n",
       "      <th>UPRN</th>\n",
       "      <th>USRN</th>\n",
       "      <th>Easting_m</th>\n",
       "      <th>Northing_m</th>\n",
       "      <th>Easting_rounded</th>\n",
       "      <th>Northing_rounded</th>\n",
       "      <th>Latitude</th>\n",
       "      <th>Longitude</th>\n",
       "      <th>FirstPumpArriving_AttendanceTime</th>\n",
       "      <th>SecondPumpArriving_AttendanceTime</th>\n",
       "      <th>NumStationsWithPumpsAttending</th>\n",
       "      <th>NumPumpsAttending</th>\n",
       "      <th>PumpCount</th>\n",
       "      <th>PumpHoursRoundUp</th>\n",
       "      <th>Notional Cost (£)</th>\n",
       "      <th>NumCalls</th>\n",
       "    </tr>\n",
       "  </thead>\n",
       "  <tbody>\n",
       "    <tr>\n",
       "      <td>count</td>\n",
       "      <td>381366.000000</td>\n",
       "      <td>381366.000000</td>\n",
       "      <td>3.813660e+05</td>\n",
       "      <td>3.813660e+05</td>\n",
       "      <td>165833.000000</td>\n",
       "      <td>165833.000000</td>\n",
       "      <td>381366.00000</td>\n",
       "      <td>381366.000000</td>\n",
       "      <td>165833.000000</td>\n",
       "      <td>165833.000000</td>\n",
       "      <td>359041.000000</td>\n",
       "      <td>139168.000000</td>\n",
       "      <td>375902.000000</td>\n",
       "      <td>375902.000000</td>\n",
       "      <td>378169.000000</td>\n",
       "      <td>378065.000000</td>\n",
       "      <td>378065.000000</td>\n",
       "      <td>381363.000000</td>\n",
       "    </tr>\n",
       "    <tr>\n",
       "      <td>mean</td>\n",
       "      <td>2021.321172</td>\n",
       "      <td>13.385304</td>\n",
       "      <td>1.913246e+10</td>\n",
       "      <td>2.045177e+07</td>\n",
       "      <td>530639.479525</td>\n",
       "      <td>180318.180416</td>\n",
       "      <td>530635.51444</td>\n",
       "      <td>180457.547867</td>\n",
       "      <td>51.324623</td>\n",
       "      <td>-0.118338</td>\n",
       "      <td>310.353820</td>\n",
       "      <td>389.484371</td>\n",
       "      <td>1.405446</td>\n",
       "      <td>1.550739</td>\n",
       "      <td>1.600377</td>\n",
       "      <td>1.362321</td>\n",
       "      <td>484.117229</td>\n",
       "      <td>1.310909</td>\n",
       "    </tr>\n",
       "    <tr>\n",
       "      <td>std</td>\n",
       "      <td>0.992867</td>\n",
       "      <td>6.294234</td>\n",
       "      <td>4.435245e+10</td>\n",
       "      <td>4.505919e+06</td>\n",
       "      <td>10502.329024</td>\n",
       "      <td>7570.879037</td>\n",
       "      <td>9766.70003</td>\n",
       "      <td>7471.794791</td>\n",
       "      <td>3.057145</td>\n",
       "      <td>0.151196</td>\n",
       "      <td>131.274992</td>\n",
       "      <td>144.514174</td>\n",
       "      <td>0.788704</td>\n",
       "      <td>0.917132</td>\n",
       "      <td>1.362421</td>\n",
       "      <td>4.266786</td>\n",
       "      <td>1513.516503</td>\n",
       "      <td>1.469377</td>\n",
       "    </tr>\n",
       "    <tr>\n",
       "      <td>min</td>\n",
       "      <td>2020.000000</td>\n",
       "      <td>0.000000</td>\n",
       "      <td>0.000000e+00</td>\n",
       "      <td>4.200558e+06</td>\n",
       "      <td>503587.000000</td>\n",
       "      <td>155901.000000</td>\n",
       "      <td>503550.00000</td>\n",
       "      <td>155950.000000</td>\n",
       "      <td>0.000000</td>\n",
       "      <td>-0.510069</td>\n",
       "      <td>1.000000</td>\n",
       "      <td>1.000000</td>\n",
       "      <td>1.000000</td>\n",
       "      <td>1.000000</td>\n",
       "      <td>1.000000</td>\n",
       "      <td>1.000000</td>\n",
       "      <td>339.000000</td>\n",
       "      <td>1.000000</td>\n",
       "    </tr>\n",
       "    <tr>\n",
       "      <td>25%</td>\n",
       "      <td>2020.000000</td>\n",
       "      <td>9.000000</td>\n",
       "      <td>0.000000e+00</td>\n",
       "      <td>2.040118e+07</td>\n",
       "      <td>524838.000000</td>\n",
       "      <td>175764.000000</td>\n",
       "      <td>525150.00000</td>\n",
       "      <td>175950.000000</td>\n",
       "      <td>51.465839</td>\n",
       "      <td>-0.201611</td>\n",
       "      <td>228.000000</td>\n",
       "      <td>297.000000</td>\n",
       "      <td>1.000000</td>\n",
       "      <td>1.000000</td>\n",
       "      <td>1.000000</td>\n",
       "      <td>1.000000</td>\n",
       "      <td>346.000000</td>\n",
       "      <td>1.000000</td>\n",
       "    </tr>\n",
       "    <tr>\n",
       "      <td>50%</td>\n",
       "      <td>2021.000000</td>\n",
       "      <td>14.000000</td>\n",
       "      <td>0.000000e+00</td>\n",
       "      <td>2.120125e+07</td>\n",
       "      <td>530849.000000</td>\n",
       "      <td>180959.000000</td>\n",
       "      <td>530950.00000</td>\n",
       "      <td>181050.000000</td>\n",
       "      <td>51.512563</td>\n",
       "      <td>-0.116008</td>\n",
       "      <td>292.000000</td>\n",
       "      <td>367.000000</td>\n",
       "      <td>1.000000</td>\n",
       "      <td>1.000000</td>\n",
       "      <td>1.000000</td>\n",
       "      <td>1.000000</td>\n",
       "      <td>352.000000</td>\n",
       "      <td>1.000000</td>\n",
       "    </tr>\n",
       "    <tr>\n",
       "      <td>75%</td>\n",
       "      <td>2022.000000</td>\n",
       "      <td>18.000000</td>\n",
       "      <td>1.001023e+10</td>\n",
       "      <td>2.210064e+07</td>\n",
       "      <td>537063.000000</td>\n",
       "      <td>185079.000000</td>\n",
       "      <td>536350.00000</td>\n",
       "      <td>185250.000000</td>\n",
       "      <td>51.549157</td>\n",
       "      <td>-0.024654</td>\n",
       "      <td>370.000000</td>\n",
       "      <td>456.000000</td>\n",
       "      <td>2.000000</td>\n",
       "      <td>2.000000</td>\n",
       "      <td>2.000000</td>\n",
       "      <td>1.000000</td>\n",
       "      <td>364.000000</td>\n",
       "      <td>1.000000</td>\n",
       "    </tr>\n",
       "    <tr>\n",
       "      <td>max</td>\n",
       "      <td>2023.000000</td>\n",
       "      <td>23.000000</td>\n",
       "      <td>2.000044e+11</td>\n",
       "      <td>9.999042e+07</td>\n",
       "      <td>560461.000000</td>\n",
       "      <td>200885.000000</td>\n",
       "      <td>611150.00000</td>\n",
       "      <td>302450.000000</td>\n",
       "      <td>51.691412</td>\n",
       "      <td>0.313635</td>\n",
       "      <td>1200.000000</td>\n",
       "      <td>1200.000000</td>\n",
       "      <td>14.000000</td>\n",
       "      <td>14.000000</td>\n",
       "      <td>156.000000</td>\n",
       "      <td>680.000000</td>\n",
       "      <td>247520.000000</td>\n",
       "      <td>111.000000</td>\n",
       "    </tr>\n",
       "  </tbody>\n",
       "</table>\n",
       "</div>"
      ],
      "text/plain": [
       "             CalYear     HourOfCall          UPRN          USRN  \\\n",
       "count  381366.000000  381366.000000  3.813660e+05  3.813660e+05   \n",
       "mean     2021.321172      13.385304  1.913246e+10  2.045177e+07   \n",
       "std         0.992867       6.294234  4.435245e+10  4.505919e+06   \n",
       "min      2020.000000       0.000000  0.000000e+00  4.200558e+06   \n",
       "25%      2020.000000       9.000000  0.000000e+00  2.040118e+07   \n",
       "50%      2021.000000      14.000000  0.000000e+00  2.120125e+07   \n",
       "75%      2022.000000      18.000000  1.001023e+10  2.210064e+07   \n",
       "max      2023.000000      23.000000  2.000044e+11  9.999042e+07   \n",
       "\n",
       "           Easting_m     Northing_m  Easting_rounded  Northing_rounded  \\\n",
       "count  165833.000000  165833.000000     381366.00000     381366.000000   \n",
       "mean   530639.479525  180318.180416     530635.51444     180457.547867   \n",
       "std     10502.329024    7570.879037       9766.70003       7471.794791   \n",
       "min    503587.000000  155901.000000     503550.00000     155950.000000   \n",
       "25%    524838.000000  175764.000000     525150.00000     175950.000000   \n",
       "50%    530849.000000  180959.000000     530950.00000     181050.000000   \n",
       "75%    537063.000000  185079.000000     536350.00000     185250.000000   \n",
       "max    560461.000000  200885.000000     611150.00000     302450.000000   \n",
       "\n",
       "            Latitude      Longitude  FirstPumpArriving_AttendanceTime  \\\n",
       "count  165833.000000  165833.000000                     359041.000000   \n",
       "mean       51.324623      -0.118338                        310.353820   \n",
       "std         3.057145       0.151196                        131.274992   \n",
       "min         0.000000      -0.510069                          1.000000   \n",
       "25%        51.465839      -0.201611                        228.000000   \n",
       "50%        51.512563      -0.116008                        292.000000   \n",
       "75%        51.549157      -0.024654                        370.000000   \n",
       "max        51.691412       0.313635                       1200.000000   \n",
       "\n",
       "       SecondPumpArriving_AttendanceTime  NumStationsWithPumpsAttending  \\\n",
       "count                      139168.000000                  375902.000000   \n",
       "mean                          389.484371                       1.405446   \n",
       "std                           144.514174                       0.788704   \n",
       "min                             1.000000                       1.000000   \n",
       "25%                           297.000000                       1.000000   \n",
       "50%                           367.000000                       1.000000   \n",
       "75%                           456.000000                       2.000000   \n",
       "max                          1200.000000                      14.000000   \n",
       "\n",
       "       NumPumpsAttending      PumpCount  PumpHoursRoundUp  Notional Cost (£)  \\\n",
       "count      375902.000000  378169.000000     378065.000000      378065.000000   \n",
       "mean            1.550739       1.600377          1.362321         484.117229   \n",
       "std             0.917132       1.362421          4.266786        1513.516503   \n",
       "min             1.000000       1.000000          1.000000         339.000000   \n",
       "25%             1.000000       1.000000          1.000000         346.000000   \n",
       "50%             1.000000       1.000000          1.000000         352.000000   \n",
       "75%             2.000000       2.000000          1.000000         364.000000   \n",
       "max            14.000000     156.000000        680.000000      247520.000000   \n",
       "\n",
       "            NumCalls  \n",
       "count  381363.000000  \n",
       "mean        1.310909  \n",
       "std         1.469377  \n",
       "min         1.000000  \n",
       "25%         1.000000  \n",
       "50%         1.000000  \n",
       "75%         1.000000  \n",
       "max       111.000000  "
      ]
     },
     "execution_count": 11,
     "metadata": {},
     "output_type": "execute_result"
    }
   ],
   "source": [
    "dfa.describe()"
   ]
  },
  {
   "cell_type": "code",
   "execution_count": 12,
   "metadata": {},
   "outputs": [
    {
     "name": "stdout",
     "output_type": "stream",
     "text": [
      "<class 'pandas.core.frame.DataFrame'>\n",
      "RangeIndex: 381366 entries, 0 to 381365\n",
      "Data columns (total 39 columns):\n",
      "IncidentNumber                            381366 non-null object\n",
      "DateOfCall                                381366 non-null object\n",
      "CalYear                                   381366 non-null int64\n",
      "TimeOfCall                                381366 non-null object\n",
      "HourOfCall                                381366 non-null int64\n",
      "IncidentGroup                             381366 non-null object\n",
      "StopCodeDescription                       381366 non-null object\n",
      "SpecialServiceType                        136659 non-null object\n",
      "PropertyCategory                          381366 non-null object\n",
      "PropertyType                              381366 non-null object\n",
      "AddressQualifier                          381366 non-null object\n",
      "Postcode_full                             165833 non-null object\n",
      "Postcode_district                         381366 non-null object\n",
      "UPRN                                      381366 non-null int64\n",
      "USRN                                      381366 non-null int64\n",
      "IncGeo_BoroughCode                        381366 non-null object\n",
      "IncGeo_BoroughName                        381366 non-null object\n",
      "ProperCase                                381366 non-null object\n",
      "IncGeo_WardCode                           381360 non-null object\n",
      "IncGeo_WardName                           381360 non-null object\n",
      "IncGeo_WardNameNew                        381360 non-null object\n",
      "Easting_m                                 165833 non-null float64\n",
      "Northing_m                                165833 non-null float64\n",
      "Easting_rounded                           381366 non-null int64\n",
      "Northing_rounded                          381366 non-null int64\n",
      "Latitude                                  165833 non-null float64\n",
      "Longitude                                 165833 non-null float64\n",
      "FRS                                       381366 non-null object\n",
      "IncidentStationGround                     381365 non-null object\n",
      "FirstPumpArriving_AttendanceTime          359041 non-null float64\n",
      "FirstPumpArriving_DeployedFromStation     359036 non-null object\n",
      "SecondPumpArriving_AttendanceTime         139168 non-null float64\n",
      "SecondPumpArriving_DeployedFromStation    139166 non-null object\n",
      "NumStationsWithPumpsAttending             375902 non-null float64\n",
      "NumPumpsAttending                         375902 non-null float64\n",
      "PumpCount                                 378169 non-null float64\n",
      "PumpHoursRoundUp                          378065 non-null float64\n",
      "Notional Cost (£)                         378065 non-null float64\n",
      "NumCalls                                  381363 non-null float64\n",
      "dtypes: float64(12), int64(6), object(21)\n",
      "memory usage: 113.5+ MB\n"
     ]
    }
   ],
   "source": [
    "dfa.info()"
   ]
  },
  {
   "cell_type": "markdown",
   "metadata": {},
   "source": [
    "- Affichons le nombre d'incicent par année. Nous rappellons que nous disposons d'un échantillon de 3 années. L'année 2023, nous avons que la moitié de l'année (5 mois)."
   ]
  },
  {
   "cell_type": "code",
   "execution_count": 31,
   "metadata": {},
   "outputs": [
    {
     "data": {
      "image/png": "[encoded data removed]",
      "text/plain": [
       "<Figure size 432x288 with 1 Axes>"
      ]
     },
     "metadata": {
      "needs_background": "light"
     },
     "output_type": "display_data"
    }
   ],
   "source": [
    "sns.countplot(x='CalYear',data = dfa); "
   ]
  },
  {
   "cell_type": "code",
   "execution_count": 48,
   "metadata": {},
   "outputs": [],
   "source": [
    "dfa['DateOfCall_bis'] = pd.to_datetime(df_test['DateOfCall'])\n",
    "dfa[\"MonthOfCall\"] = dfa['DateOfCall_bis'].dt.month"
   ]
  },
  {
   "cell_type": "code",
   "execution_count": 79,
   "metadata": {},
   "outputs": [],
   "source": [
    "dfa_gprmonth = dfa.groupby([\"MonthOfCall\",\"CalYear\"]).count().reset_index() "
   ]
  },
  {
   "cell_type": "code",
   "execution_count": 80,
   "metadata": {},
   "outputs": [
    {
     "data": {
      "text/plain": [
       "<matplotlib.axes._subplots.AxesSubplot at 0x18981699408>"
      ]
     },
     "execution_count": 80,
     "metadata": {},
     "output_type": "execute_result"
    },
    {
     "data": {
      "image/png": "[encoded data removed]",
      "text/plain": [
       "<Figure size 770.4x523.44 with 1 Axes>"
      ]
     },
     "metadata": {},
     "output_type": "display_data"
    }
   ],
   "source": [
    "sns.set(rc={'figure.figsize':(10.7,7.27)})\n",
    "sns.lineplot(data=dfa_gprmonth, x=\"MonthOfCall\", y=\"IncidentNumber\", hue=\"CalYear\", style=\"CalYear\",dashes=False,markers=True,sizes=(.25, 2.5))"
   ]
  },
  {
   "cell_type": "markdown",
   "metadata": {},
   "source": [
    "Des pics d'incidents sont observés dans les mois de mai et juillet."
   ]
  },
  {
   "cell_type": "code",
   "execution_count": null,
   "metadata": {},
   "outputs": [],
   "source": []
  },
  {
   "cell_type": "code",
   "execution_count": 24,
   "metadata": {},
   "outputs": [
    {
     "data": {
      "image/png": "[encoded data removed]",
      "text/plain": [
       "<Figure size 432x288 with 1 Axes>"
      ]
     },
     "metadata": {
      "needs_background": "light"
     },
     "output_type": "display_data"
    }
   ],
   "source": [
    "sns.distplot(dfa['HourOfCall'], bins=10, kde=True, rug=True, color ='green');"
   ]
  },
  {
   "cell_type": "code",
   "execution_count": null,
   "metadata": {},
   "outputs": [],
   "source": []
  },
  {
   "cell_type": "code",
   "execution_count": 93,
   "metadata": {},
   "outputs": [
    {
     "data": {
      "text/html": [
       "<div>\n",
       "<style scoped>\n",
       "    .dataframe tbody tr th:only-of-type {\n",
       "        vertical-align: middle;\n",
       "    }\n",
       "\n",
       "    .dataframe tbody tr th {\n",
       "        vertical-align: top;\n",
       "    }\n",
       "\n",
       "    .dataframe thead th {\n",
       "        text-align: right;\n",
       "    }\n",
       "</style>\n",
       "<table border=\"1\" class=\"dataframe\">\n",
       "  <thead>\n",
       "    <tr style=\"text-align: right;\">\n",
       "      <th></th>\n",
       "      <th>IncidentNumber</th>\n",
       "      <th>DateOfCall</th>\n",
       "      <th>CalYear</th>\n",
       "      <th>TimeOfCall</th>\n",
       "      <th>HourOfCall</th>\n",
       "      <th>IncidentGroup</th>\n",
       "      <th>StopCodeDescription</th>\n",
       "      <th>SpecialServiceType</th>\n",
       "      <th>PropertyCategory</th>\n",
       "      <th>PropertyType</th>\n",
       "      <th>...</th>\n",
       "      <th>first</th>\n",
       "      <th>col</th>\n",
       "      <th>hour</th>\n",
       "      <th>min</th>\n",
       "      <th>sec</th>\n",
       "      <th>hourensec</th>\n",
       "      <th>v1</th>\n",
       "      <th>v2</th>\n",
       "      <th>v3</th>\n",
       "      <th>TimeOFCallSeconde</th>\n",
       "    </tr>\n",
       "  </thead>\n",
       "  <tbody>\n",
       "    <tr>\n",
       "      <td>0</td>\n",
       "      <td>000001-01012020</td>\n",
       "      <td>01 Jan 2020</td>\n",
       "      <td>2020</td>\n",
       "      <td>00:02:11</td>\n",
       "      <td>0</td>\n",
       "      <td>Special Service</td>\n",
       "      <td>Special Service</td>\n",
       "      <td>Lift Release</td>\n",
       "      <td>Dwelling</td>\n",
       "      <td>Purpose Built Flats/Maisonettes - 4 to 9 storeys</td>\n",
       "      <td>...</td>\n",
       "      <td>NaN</td>\n",
       "      <td>00</td>\n",
       "      <td>0</td>\n",
       "      <td>2</td>\n",
       "      <td>1</td>\n",
       "      <td>0</td>\n",
       "      <td>0</td>\n",
       "      <td>2</td>\n",
       "      <td>1</td>\n",
       "      <td>3</td>\n",
       "    </tr>\n",
       "    <tr>\n",
       "      <td>1</td>\n",
       "      <td>000003-01012020</td>\n",
       "      <td>01 Jan 2020</td>\n",
       "      <td>2020</td>\n",
       "      <td>00:06:30</td>\n",
       "      <td>0</td>\n",
       "      <td>Fire</td>\n",
       "      <td>Primary Fire</td>\n",
       "      <td>NaN</td>\n",
       "      <td>Non Residential</td>\n",
       "      <td>Private Garden Shed</td>\n",
       "      <td>...</td>\n",
       "      <td>00:06:30</td>\n",
       "      <td>00</td>\n",
       "      <td>0</td>\n",
       "      <td>6</td>\n",
       "      <td>0</td>\n",
       "      <td>0</td>\n",
       "      <td>0</td>\n",
       "      <td>6</td>\n",
       "      <td>0</td>\n",
       "      <td>6</td>\n",
       "    </tr>\n",
       "    <tr>\n",
       "      <td>2</td>\n",
       "      <td>000004-01012020</td>\n",
       "      <td>01 Jan 2020</td>\n",
       "      <td>2020</td>\n",
       "      <td>00:07:07</td>\n",
       "      <td>0</td>\n",
       "      <td>Special Service</td>\n",
       "      <td>Special Service</td>\n",
       "      <td>Lift Release</td>\n",
       "      <td>Dwelling</td>\n",
       "      <td>Purpose Built Flats/Maisonettes - 4 to 9 storeys</td>\n",
       "      <td>...</td>\n",
       "      <td>NaN</td>\n",
       "      <td>00</td>\n",
       "      <td>0</td>\n",
       "      <td>7</td>\n",
       "      <td>7</td>\n",
       "      <td>0</td>\n",
       "      <td>0</td>\n",
       "      <td>7</td>\n",
       "      <td>7</td>\n",
       "      <td>14</td>\n",
       "    </tr>\n",
       "    <tr>\n",
       "      <td>3</td>\n",
       "      <td>000008-01012020</td>\n",
       "      <td>01 Jan 2020</td>\n",
       "      <td>2020</td>\n",
       "      <td>00:11:05</td>\n",
       "      <td>0</td>\n",
       "      <td>False Alarm</td>\n",
       "      <td>AFA</td>\n",
       "      <td>NaN</td>\n",
       "      <td>Non Residential</td>\n",
       "      <td>Telephone exchange</td>\n",
       "      <td>...</td>\n",
       "      <td>NaN</td>\n",
       "      <td>00</td>\n",
       "      <td>0</td>\n",
       "      <td>1</td>\n",
       "      <td>5</td>\n",
       "      <td>0</td>\n",
       "      <td>0</td>\n",
       "      <td>1</td>\n",
       "      <td>5</td>\n",
       "      <td>6</td>\n",
       "    </tr>\n",
       "    <tr>\n",
       "      <td>4</td>\n",
       "      <td>000009-01012020</td>\n",
       "      <td>01 Jan 2020</td>\n",
       "      <td>2020</td>\n",
       "      <td>00:11:16</td>\n",
       "      <td>0</td>\n",
       "      <td>Fire</td>\n",
       "      <td>Secondary Fire</td>\n",
       "      <td>NaN</td>\n",
       "      <td>Outdoor Structure</td>\n",
       "      <td>Small refuse/rubbish container</td>\n",
       "      <td>...</td>\n",
       "      <td>NaN</td>\n",
       "      <td>00</td>\n",
       "      <td>0</td>\n",
       "      <td>1</td>\n",
       "      <td>6</td>\n",
       "      <td>0</td>\n",
       "      <td>0</td>\n",
       "      <td>1</td>\n",
       "      <td>6</td>\n",
       "      <td>7</td>\n",
       "    </tr>\n",
       "  </tbody>\n",
       "</table>\n",
       "<p>5 rows × 49 columns</p>\n",
       "</div>"
      ],
      "text/plain": [
       "    IncidentNumber   DateOfCall  CalYear TimeOfCall  HourOfCall  \\\n",
       "0  000001-01012020  01 Jan 2020     2020   00:02:11           0   \n",
       "1  000003-01012020  01 Jan 2020     2020   00:06:30           0   \n",
       "2  000004-01012020  01 Jan 2020     2020   00:07:07           0   \n",
       "3  000008-01012020  01 Jan 2020     2020   00:11:05           0   \n",
       "4  000009-01012020  01 Jan 2020     2020   00:11:16           0   \n",
       "\n",
       "     IncidentGroup StopCodeDescription SpecialServiceType   PropertyCategory  \\\n",
       "0  Special Service     Special Service       Lift Release           Dwelling   \n",
       "1             Fire        Primary Fire                NaN    Non Residential   \n",
       "2  Special Service     Special Service       Lift Release           Dwelling   \n",
       "3      False Alarm                 AFA                NaN    Non Residential   \n",
       "4             Fire      Secondary Fire                NaN  Outdoor Structure   \n",
       "\n",
       "                                        PropertyType  ...     first col hour  \\\n",
       "0  Purpose Built Flats/Maisonettes - 4 to 9 storeys   ...       NaN  00    0   \n",
       "1                               Private Garden Shed   ...  00:06:30  00    0   \n",
       "2  Purpose Built Flats/Maisonettes - 4 to 9 storeys   ...       NaN  00    0   \n",
       "3                                 Telephone exchange  ...       NaN  00    0   \n",
       "4                     Small refuse/rubbish container  ...       NaN  00    0   \n",
       "\n",
       "   min  sec hourensec v1 v2 v3 TimeOFCallSeconde  \n",
       "0    2    1         0  0  2  1                 3  \n",
       "1    6    0         0  0  6  0                 6  \n",
       "2    7    7         0  0  7  7                14  \n",
       "3    1    5         0  0  1  5                 6  \n",
       "4    1    6         0  0  1  6                 7  \n",
       "\n",
       "[5 rows x 49 columns]"
      ]
     },
     "execution_count": 93,
     "metadata": {},
     "output_type": "execute_result"
    }
   ],
   "source": [
    "dfa['v1'] = (dfa['TimeOfCall'].str[:2]).astype(int) #*3600\n",
    "dfa['v2'] = (dfa['TimeOfCall'].str[4:5]).astype(int) #*60\n",
    "dfa['v3'] = (dfa['TimeOfCall'].str[7:8]).astype(int)\n",
    "dfa['TimeOFCallSeconde'] = dfa['v1'] + dfa['v2'] + dfa['v3']\n",
    "dfa.head()"
   ]
  },
  {
   "cell_type": "code",
   "execution_count": 84,
   "metadata": {},
   "outputs": [
    {
     "data": {
      "image/png": "[encoded data removed]",
      "text/plain": [
       "<Figure size 432x288 with 1 Axes>"
      ]
     },
     "metadata": {
      "needs_background": "light"
     },
     "output_type": "display_data"
    }
   ],
   "source": [
    "sns.distplot(dfa['TimeOFCallSeconde'], bins=10, kde=True, rug=True, color ='green');"
   ]
  },
  {
   "cell_type": "code",
   "execution_count": null,
   "metadata": {},
   "outputs": [],
   "source": []
  },
  {
   "cell_type": "code",
   "execution_count": 13,
   "metadata": {},
   "outputs": [
    {
     "data": {
      "image/png": "[encoded data removed]",
      "text/plain": [
       "<Figure size 432x288 with 1 Axes>"
      ]
     },
     "metadata": {
      "needs_background": "light"
     },
     "output_type": "display_data"
    }
   ],
   "source": [
    "sns.countplot(y='IncidentGroup',data = dfa); "
   ]
  },
  {
   "cell_type": "code",
   "execution_count": 15,
   "metadata": {},
   "outputs": [
    {
     "data": {
      "text/plain": [
       "False Alarm        49.014070\n",
       "Special Service    35.856893\n",
       "Fire               15.129036\n",
       "Name: IncidentGroup, dtype: float64"
      ]
     },
     "execution_count": 15,
     "metadata": {},
     "output_type": "execute_result"
    }
   ],
   "source": [
    "dfa['IncidentGroup'].value_counts(normalize=True)*100"
   ]
  },
  {
   "cell_type": "markdown",
   "metadata": {},
   "source": [
    "Près de 50% des incidents sont de fausses alertes vs 50% d'incidents réels."
   ]
  },
  {
   "cell_type": "code",
   "execution_count": 25,
   "metadata": {},
   "outputs": [
    {
     "data": {
      "text/plain": [
       "AFA                                      38.037214\n",
       "Special Service                          35.315419\n",
       "False alarm - Good intent                10.074050\n",
       "Primary Fire                              7.763146\n",
       "Secondary Fire                            7.345175\n",
       "False alarm - Malicious                   0.902807\n",
       "Flood call attended - Batch mobilised     0.518662\n",
       "Use of Special Operations Room            0.022813\n",
       "Chimney Fire                              0.015471\n",
       "Late Call                                 0.005244\n",
       "Name: StopCodeDescription, dtype: float64"
      ]
     },
     "execution_count": 25,
     "metadata": {},
     "output_type": "execute_result"
    }
   ],
   "source": [
    "dfa['StopCodeDescription'].value_counts(normalize=True)*100"
   ]
  },
  {
   "cell_type": "code",
   "execution_count": null,
   "metadata": {},
   "outputs": [],
   "source": []
  },
  {
   "cell_type": "code",
   "execution_count": 30,
   "metadata": {},
   "outputs": [
    {
     "data": {
      "image/png": "[encoded data removed]",
      "text/plain": [
       "<Figure size 432x288 with 1 Axes>"
      ]
     },
     "metadata": {
      "needs_background": "light"
     },
     "output_type": "display_data"
    }
   ],
   "source": [
    "sns.countplot(y='StopCodeDescription',data = dfa); "
   ]
  },
  {
   "cell_type": "code",
   "execution_count": 32,
   "metadata": {},
   "outputs": [
    {
     "data": {
      "image/png": "[encoded data removed]",
      "text/plain": [
       "<Figure size 432x288 with 1 Axes>"
      ]
     },
     "metadata": {
      "needs_background": "light"
     },
     "output_type": "display_data"
    }
   ],
   "source": [
    "sns.countplot(y='SpecialServiceType',data = dfa);"
   ]
  },
  {
   "cell_type": "code",
   "execution_count": null,
   "metadata": {},
   "outputs": [],
   "source": []
  },
  {
   "cell_type": "code",
   "execution_count": 34,
   "metadata": {},
   "outputs": [
    {
     "data": {
      "image/png": "[encoded data removed]",
      "text/plain": [
       "<Figure size 432x288 with 1 Axes>"
      ]
     },
     "metadata": {
      "needs_background": "light"
     },
     "output_type": "display_data"
    }
   ],
   "source": [
    "sns.countplot(y='PropertyCategory',data = dfa); "
   ]
  },
  {
   "cell_type": "markdown",
   "metadata": {},
   "source": [
    "- Plus de 50% des appels concernent des incidents déclarés sur les lieux d'habitation"
   ]
  },
  {
   "cell_type": "code",
   "execution_count": null,
   "metadata": {},
   "outputs": [],
   "source": []
  },
  {
   "cell_type": "code",
   "execution_count": 37,
   "metadata": {},
   "outputs": [
    {
     "data": {
      "image/png": "[encoded data removed]",
      "text/plain": [
       "<Figure size 432x288 with 1 Axes>"
      ]
     },
     "metadata": {
      "needs_background": "light"
     },
     "output_type": "display_data"
    }
   ],
   "source": [
    "sns.countplot(y='AddressQualifier',data = dfa); "
   ]
  },
  {
   "cell_type": "code",
   "execution_count": 36,
   "metadata": {},
   "outputs": [
    {
     "data": {
      "text/plain": [
       "Correct incident location                          58.679589\n",
       "Within same building                               22.693685\n",
       "On land associated with building                    6.225516\n",
       "In street outside gazetteer location                6.073693\n",
       "In street close to gazetteer location               2.641295\n",
       "Open land/water - nearest gazetteer location        2.337125\n",
       "Nearby address - street not listed in gazetteer     0.357137\n",
       "Nearby address - no building in street              0.315707\n",
       "On motorway / elevated road                         0.302334\n",
       "In street remote from gazetteer location            0.218950\n",
       "Railway land or rolling stock                       0.154969\n",
       "Name: AddressQualifier, dtype: float64"
      ]
     },
     "execution_count": 36,
     "metadata": {},
     "output_type": "execute_result"
    }
   ],
   "source": [
    "dfa['AddressQualifier'].value_counts(normalize=True)*100"
   ]
  },
  {
   "cell_type": "markdown",
   "metadata": {},
   "source": [
    "- PLus de 58% personnes qui appelent pour déclaré un incident donnent l'emplacement exact de l'incident. C'est peu-être le lieu d'habitation de ces personnes. 22% des appelants sont dans l'immeuble dans lequels il y a l'incident.  Bien comprendre cette variable... Je pense que je ne la comprend pas trop. Pourtant elle peut avoir de l'impact sur le temps d'arriver des pompiers sur les lieux."
   ]
  },
  {
   "cell_type": "markdown",
   "metadata": {},
   "source": [
    "- Top 10 des stations d'interventions au sol."
   ]
  },
  {
   "cell_type": "code",
   "execution_count": 46,
   "metadata": {},
   "outputs": [
    {
     "data": {
      "text/plain": [
       "Soho                3.032790\n",
       "Paddington          2.482137\n",
       "Lambeth             1.966358\n",
       "Euston              1.934105\n",
       "Shoreditch          1.830530\n",
       "North Kensington    1.811388\n",
       "Tottenham           1.768385\n",
       "Chelsea             1.691031\n",
       "Hammersmith         1.666645\n",
       "Stoke Newington     1.574607\n",
       "Name: IncidentStationGround, dtype: float64"
      ]
     },
     "execution_count": 46,
     "metadata": {},
     "output_type": "execute_result"
    }
   ],
   "source": [
    "(dfa['IncidentStationGround'].value_counts(normalize=True)*100).head(10)"
   ]
  },
  {
   "cell_type": "code",
   "execution_count": null,
   "metadata": {},
   "outputs": [],
   "source": []
  },
  {
   "cell_type": "code",
   "execution_count": null,
   "metadata": {},
   "outputs": [],
   "source": []
  },
  {
   "cell_type": "markdown",
   "metadata": {},
   "source": [
    "- Lorsque pour un incident donné le FirstPumpArriving_AttendanceTime égale à nul alors aucune mobilisation n'a été faite sur ce incident\n",
    "je supprime donc les incidents à Null et je ferai ensuite les statistiques sur cette variable;"
   ]
  },
  {
   "cell_type": "code",
   "execution_count": 49,
   "metadata": {},
   "outputs": [],
   "source": [
    "dfa_FirstPumpArriving_Attendance = dfa.dropna(axis = 0, how = 'all', subset = ['FirstPumpArriving_AttendanceTime']) "
   ]
  },
  {
   "cell_type": "code",
   "execution_count": 50,
   "metadata": {},
   "outputs": [
    {
     "data": {
      "image/png": "[encoded data removed]",
      "text/plain": [
       "<Figure size 432x288 with 1 Axes>"
      ]
     },
     "metadata": {
      "needs_background": "light"
     },
     "output_type": "display_data"
    }
   ],
   "source": [
    "sns.distplot(dfa_FirstPumpArriving_Attendance['FirstPumpArriving_AttendanceTime'], bins=10, kde=True, rug=True, color ='green');"
   ]
  },
  {
   "cell_type": "code",
   "execution_count": null,
   "metadata": {},
   "outputs": [],
   "source": []
  },
  {
   "cell_type": "markdown",
   "metadata": {},
   "source": [
    "- Lorsque pour incident la variable SecondPumpArriving_AttendanceTim est null alors que la firstPump est renseignée. Alors c'est qu'il y a eu une seule mobilisation sur cet incident"
   ]
  },
  {
   "cell_type": "code",
   "execution_count": 53,
   "metadata": {},
   "outputs": [
    {
     "data": {
      "image/png": "[encoded data removed]",
      "text/plain": [
       "<Figure size 432x288 with 1 Axes>"
      ]
     },
     "metadata": {
      "needs_background": "light"
     },
     "output_type": "display_data"
    }
   ],
   "source": [
    "dfa_SecondPumpArriving_AttendanceTim = dfa.dropna(axis = 0, how = 'all', subset = ['SecondPumpArriving_AttendanceTime']) \n",
    "sns.distplot(dfa_SecondPumpArriving_AttendanceTim['SecondPumpArriving_AttendanceTime'], bins=10, kde=True, rug=True, color ='green');"
   ]
  },
  {
   "cell_type": "markdown",
   "metadata": {},
   "source": [
    "Les deux variables suivent la même distribution, ce qui voudrait dire que les véhicules d'intervention se suivent la plus part du temps. Ce qui est plutôt compréhensible."
   ]
  },
  {
   "cell_type": "code",
   "execution_count": null,
   "metadata": {},
   "outputs": [],
   "source": []
  },
  {
   "cell_type": "markdown",
   "metadata": {},
   "source": [
    "## 1.2 Exploration de la base des mobilisations"
   ]
  },
  {
   "cell_type": "code",
   "execution_count": 55,
   "metadata": {},
   "outputs": [
    {
     "data": {
      "text/html": [
       "<div>\n",
       "<style scoped>\n",
       "    .dataframe tbody tr th:only-of-type {\n",
       "        vertical-align: middle;\n",
       "    }\n",
       "\n",
       "    .dataframe tbody tr th {\n",
       "        vertical-align: top;\n",
       "    }\n",
       "\n",
       "    .dataframe thead th {\n",
       "        text-align: right;\n",
       "    }\n",
       "</style>\n",
       "<table border=\"1\" class=\"dataframe\">\n",
       "  <thead>\n",
       "    <tr style=\"text-align: right;\">\n",
       "      <th></th>\n",
       "      <th>IncidentNumber</th>\n",
       "      <th>CalYear</th>\n",
       "      <th>HourOfCall</th>\n",
       "      <th>ResourceMobilisationId</th>\n",
       "      <th>Resource_Code</th>\n",
       "      <th>PerformanceReporting</th>\n",
       "      <th>DateAndTimeMobilised</th>\n",
       "      <th>DateAndTimeMobile</th>\n",
       "      <th>DateAndTimeArrived</th>\n",
       "      <th>TurnoutTimeSeconds</th>\n",
       "      <th>...</th>\n",
       "      <th>DateAndTimeLeft</th>\n",
       "      <th>DateAndTimeReturned</th>\n",
       "      <th>DeployedFromStation_Code</th>\n",
       "      <th>DeployedFromStation_Name</th>\n",
       "      <th>DeployedFromLocation</th>\n",
       "      <th>PumpOrder</th>\n",
       "      <th>PlusCode_Code</th>\n",
       "      <th>PlusCode_Description</th>\n",
       "      <th>DelayCodeId</th>\n",
       "      <th>DelayCode_Description</th>\n",
       "    </tr>\n",
       "  </thead>\n",
       "  <tbody>\n",
       "    <tr>\n",
       "      <td>0</td>\n",
       "      <td>000003-01012020</td>\n",
       "      <td>2020</td>\n",
       "      <td>0</td>\n",
       "      <td>5547476</td>\n",
       "      <td>G232</td>\n",
       "      <td>1</td>\n",
       "      <td>01/01/2020 00:06:30</td>\n",
       "      <td>01/01/2020 00:07:48</td>\n",
       "      <td>01/01/2020 00:11:54</td>\n",
       "      <td>78.0</td>\n",
       "      <td>...</td>\n",
       "      <td>01/01/2020 00:33:14</td>\n",
       "      <td>NaN</td>\n",
       "      <td>G23</td>\n",
       "      <td>Hillingdon</td>\n",
       "      <td>Home Station</td>\n",
       "      <td>1</td>\n",
       "      <td>Initial</td>\n",
       "      <td>Initial Mobilisation</td>\n",
       "      <td>NaN</td>\n",
       "      <td>NaN</td>\n",
       "    </tr>\n",
       "    <tr>\n",
       "      <td>1</td>\n",
       "      <td>000008-01012020</td>\n",
       "      <td>2020</td>\n",
       "      <td>0</td>\n",
       "      <td>5547478</td>\n",
       "      <td>H421</td>\n",
       "      <td>1</td>\n",
       "      <td>01/01/2020 00:11:05</td>\n",
       "      <td>01/01/2020 00:12:05</td>\n",
       "      <td>01/01/2020 00:14:20</td>\n",
       "      <td>60.0</td>\n",
       "      <td>...</td>\n",
       "      <td>01/01/2020 01:00:07</td>\n",
       "      <td>NaN</td>\n",
       "      <td>H42</td>\n",
       "      <td>Richmond</td>\n",
       "      <td>Home Station</td>\n",
       "      <td>1</td>\n",
       "      <td>Initial</td>\n",
       "      <td>Initial Mobilisation</td>\n",
       "      <td>NaN</td>\n",
       "      <td>NaN</td>\n",
       "    </tr>\n",
       "    <tr>\n",
       "      <td>2</td>\n",
       "      <td>000009-01012020</td>\n",
       "      <td>2020</td>\n",
       "      <td>0</td>\n",
       "      <td>5547479</td>\n",
       "      <td>A341</td>\n",
       "      <td>1</td>\n",
       "      <td>01/01/2020 00:11:16</td>\n",
       "      <td>01/01/2020 00:13:04</td>\n",
       "      <td>01/01/2020 00:18:22</td>\n",
       "      <td>108.0</td>\n",
       "      <td>...</td>\n",
       "      <td>01/01/2020 00:52:05</td>\n",
       "      <td>NaN</td>\n",
       "      <td>A34</td>\n",
       "      <td>Edmonton</td>\n",
       "      <td>Home Station</td>\n",
       "      <td>1</td>\n",
       "      <td>Initial</td>\n",
       "      <td>Initial Mobilisation</td>\n",
       "      <td>9.0</td>\n",
       "      <td>Traffic, roadworks, etc</td>\n",
       "    </tr>\n",
       "    <tr>\n",
       "      <td>3</td>\n",
       "      <td>000003-01012020</td>\n",
       "      <td>2020</td>\n",
       "      <td>0</td>\n",
       "      <td>5547480</td>\n",
       "      <td>G231</td>\n",
       "      <td>2</td>\n",
       "      <td>01/01/2020 00:11:33</td>\n",
       "      <td>01/01/2020 00:12:36</td>\n",
       "      <td>01/01/2020 00:16:25</td>\n",
       "      <td>63.0</td>\n",
       "      <td>...</td>\n",
       "      <td>01/01/2020 00:21:29</td>\n",
       "      <td>NaN</td>\n",
       "      <td>G23</td>\n",
       "      <td>Hillingdon</td>\n",
       "      <td>Home Station</td>\n",
       "      <td>2</td>\n",
       "      <td>Initial</td>\n",
       "      <td>Initial Mobilisation</td>\n",
       "      <td>NaN</td>\n",
       "      <td>NaN</td>\n",
       "    </tr>\n",
       "    <tr>\n",
       "      <td>4</td>\n",
       "      <td>000011-01012020</td>\n",
       "      <td>2020</td>\n",
       "      <td>0</td>\n",
       "      <td>5547482</td>\n",
       "      <td>H351</td>\n",
       "      <td>1</td>\n",
       "      <td>01/01/2020 00:12:02</td>\n",
       "      <td>01/01/2020 00:13:08</td>\n",
       "      <td>01/01/2020 00:16:11</td>\n",
       "      <td>66.0</td>\n",
       "      <td>...</td>\n",
       "      <td>01/01/2020 00:44:39</td>\n",
       "      <td>NaN</td>\n",
       "      <td>H35</td>\n",
       "      <td>Tooting</td>\n",
       "      <td>Home Station</td>\n",
       "      <td>1</td>\n",
       "      <td>Initial</td>\n",
       "      <td>Initial Mobilisation</td>\n",
       "      <td>NaN</td>\n",
       "      <td>NaN</td>\n",
       "    </tr>\n",
       "  </tbody>\n",
       "</table>\n",
       "<p>5 rows × 22 columns</p>\n",
       "</div>"
      ],
      "text/plain": [
       "    IncidentNumber  CalYear  HourOfCall  ResourceMobilisationId Resource_Code  \\\n",
       "0  000003-01012020     2020           0                 5547476          G232   \n",
       "1  000008-01012020     2020           0                 5547478          H421   \n",
       "2  000009-01012020     2020           0                 5547479          A341   \n",
       "3  000003-01012020     2020           0                 5547480          G231   \n",
       "4  000011-01012020     2020           0                 5547482          H351   \n",
       "\n",
       "  PerformanceReporting DateAndTimeMobilised    DateAndTimeMobile  \\\n",
       "0                    1  01/01/2020 00:06:30  01/01/2020 00:07:48   \n",
       "1                    1  01/01/2020 00:11:05  01/01/2020 00:12:05   \n",
       "2                    1  01/01/2020 00:11:16  01/01/2020 00:13:04   \n",
       "3                    2  01/01/2020 00:11:33  01/01/2020 00:12:36   \n",
       "4                    1  01/01/2020 00:12:02  01/01/2020 00:13:08   \n",
       "\n",
       "    DateAndTimeArrived  TurnoutTimeSeconds  ...      DateAndTimeLeft  \\\n",
       "0  01/01/2020 00:11:54                78.0  ...  01/01/2020 00:33:14   \n",
       "1  01/01/2020 00:14:20                60.0  ...  01/01/2020 01:00:07   \n",
       "2  01/01/2020 00:18:22               108.0  ...  01/01/2020 00:52:05   \n",
       "3  01/01/2020 00:16:25                63.0  ...  01/01/2020 00:21:29   \n",
       "4  01/01/2020 00:16:11                66.0  ...  01/01/2020 00:44:39   \n",
       "\n",
       "   DateAndTimeReturned DeployedFromStation_Code  DeployedFromStation_Name  \\\n",
       "0                  NaN                      G23                Hillingdon   \n",
       "1                  NaN                      H42                  Richmond   \n",
       "2                  NaN                      A34                  Edmonton   \n",
       "3                  NaN                      G23                Hillingdon   \n",
       "4                  NaN                      H35                   Tooting   \n",
       "\n",
       "  DeployedFromLocation PumpOrder PlusCode_Code  PlusCode_Description  \\\n",
       "0         Home Station         1       Initial  Initial Mobilisation   \n",
       "1         Home Station         1       Initial  Initial Mobilisation   \n",
       "2         Home Station         1       Initial  Initial Mobilisation   \n",
       "3         Home Station         2       Initial  Initial Mobilisation   \n",
       "4         Home Station         1       Initial  Initial Mobilisation   \n",
       "\n",
       "  DelayCodeId    DelayCode_Description  \n",
       "0         NaN                      NaN  \n",
       "1         NaN                      NaN  \n",
       "2         9.0  Traffic, roadworks, etc  \n",
       "3         NaN                      NaN  \n",
       "4         NaN                      NaN  \n",
       "\n",
       "[5 rows x 22 columns]"
      ]
     },
     "execution_count": 55,
     "metadata": {},
     "output_type": "execute_result"
    }
   ],
   "source": [
    "dfb.head()"
   ]
  },
  {
   "cell_type": "code",
   "execution_count": 56,
   "metadata": {},
   "outputs": [
    {
     "data": {
      "text/html": [
       "<div>\n",
       "<style scoped>\n",
       "    .dataframe tbody tr th:only-of-type {\n",
       "        vertical-align: middle;\n",
       "    }\n",
       "\n",
       "    .dataframe tbody tr th {\n",
       "        vertical-align: top;\n",
       "    }\n",
       "\n",
       "    .dataframe thead th {\n",
       "        text-align: right;\n",
       "    }\n",
       "</style>\n",
       "<table border=\"1\" class=\"dataframe\">\n",
       "  <thead>\n",
       "    <tr style=\"text-align: right;\">\n",
       "      <th></th>\n",
       "      <th>CalYear</th>\n",
       "      <th>HourOfCall</th>\n",
       "      <th>ResourceMobilisationId</th>\n",
       "      <th>TurnoutTimeSeconds</th>\n",
       "      <th>TravelTimeSeconds</th>\n",
       "      <th>AttendanceTimeSeconds</th>\n",
       "      <th>DateAndTimeReturned</th>\n",
       "      <th>PumpOrder</th>\n",
       "      <th>DelayCodeId</th>\n",
       "    </tr>\n",
       "  </thead>\n",
       "  <tbody>\n",
       "    <tr>\n",
       "      <td>count</td>\n",
       "      <td>560529.000000</td>\n",
       "      <td>560529.000000</td>\n",
       "      <td>5.605290e+05</td>\n",
       "      <td>558152.000000</td>\n",
       "      <td>558148.000000</td>\n",
       "      <td>560529.000000</td>\n",
       "      <td>0.0</td>\n",
       "      <td>560529.000000</td>\n",
       "      <td>128158.000000</td>\n",
       "    </tr>\n",
       "    <tr>\n",
       "      <td>mean</td>\n",
       "      <td>2021.306038</td>\n",
       "      <td>13.401296</td>\n",
       "      <td>5.960849e+06</td>\n",
       "      <td>73.290643</td>\n",
       "      <td>277.116156</td>\n",
       "      <td>349.405117</td>\n",
       "      <td>NaN</td>\n",
       "      <td>1.543378</td>\n",
       "      <td>10.584263</td>\n",
       "    </tr>\n",
       "    <tr>\n",
       "      <td>std</td>\n",
       "      <td>1.000920</td>\n",
       "      <td>6.366012</td>\n",
       "      <td>2.390103e+05</td>\n",
       "      <td>39.454920</td>\n",
       "      <td>146.410938</td>\n",
       "      <td>149.198772</td>\n",
       "      <td>NaN</td>\n",
       "      <td>0.916474</td>\n",
       "      <td>2.101057</td>\n",
       "    </tr>\n",
       "    <tr>\n",
       "      <td>min</td>\n",
       "      <td>2020.000000</td>\n",
       "      <td>0.000000</td>\n",
       "      <td>5.547476e+06</td>\n",
       "      <td>0.000000</td>\n",
       "      <td>0.000000</td>\n",
       "      <td>0.000000</td>\n",
       "      <td>NaN</td>\n",
       "      <td>1.000000</td>\n",
       "      <td>3.000000</td>\n",
       "    </tr>\n",
       "    <tr>\n",
       "      <td>25%</td>\n",
       "      <td>2020.000000</td>\n",
       "      <td>9.000000</td>\n",
       "      <td>5.755130e+06</td>\n",
       "      <td>52.000000</td>\n",
       "      <td>180.000000</td>\n",
       "      <td>252.000000</td>\n",
       "      <td>NaN</td>\n",
       "      <td>1.000000</td>\n",
       "      <td>9.000000</td>\n",
       "    </tr>\n",
       "    <tr>\n",
       "      <td>50%</td>\n",
       "      <td>2021.000000</td>\n",
       "      <td>14.000000</td>\n",
       "      <td>5.958091e+06</td>\n",
       "      <td>70.000000</td>\n",
       "      <td>254.000000</td>\n",
       "      <td>327.000000</td>\n",
       "      <td>NaN</td>\n",
       "      <td>1.000000</td>\n",
       "      <td>12.000000</td>\n",
       "    </tr>\n",
       "    <tr>\n",
       "      <td>75%</td>\n",
       "      <td>2022.000000</td>\n",
       "      <td>19.000000</td>\n",
       "      <td>6.169648e+06</td>\n",
       "      <td>89.000000</td>\n",
       "      <td>346.000000</td>\n",
       "      <td>420.000000</td>\n",
       "      <td>NaN</td>\n",
       "      <td>2.000000</td>\n",
       "      <td>12.000000</td>\n",
       "    </tr>\n",
       "    <tr>\n",
       "      <td>max</td>\n",
       "      <td>2023.000000</td>\n",
       "      <td>23.000000</td>\n",
       "      <td>6.379644e+06</td>\n",
       "      <td>1160.000000</td>\n",
       "      <td>1194.000000</td>\n",
       "      <td>1200.000000</td>\n",
       "      <td>NaN</td>\n",
       "      <td>13.000000</td>\n",
       "      <td>13.000000</td>\n",
       "    </tr>\n",
       "  </tbody>\n",
       "</table>\n",
       "</div>"
      ],
      "text/plain": [
       "             CalYear     HourOfCall  ResourceMobilisationId  \\\n",
       "count  560529.000000  560529.000000            5.605290e+05   \n",
       "mean     2021.306038      13.401296            5.960849e+06   \n",
       "std         1.000920       6.366012            2.390103e+05   \n",
       "min      2020.000000       0.000000            5.547476e+06   \n",
       "25%      2020.000000       9.000000            5.755130e+06   \n",
       "50%      2021.000000      14.000000            5.958091e+06   \n",
       "75%      2022.000000      19.000000            6.169648e+06   \n",
       "max      2023.000000      23.000000            6.379644e+06   \n",
       "\n",
       "       TurnoutTimeSeconds  TravelTimeSeconds  AttendanceTimeSeconds  \\\n",
       "count       558152.000000      558148.000000          560529.000000   \n",
       "mean            73.290643         277.116156             349.405117   \n",
       "std             39.454920         146.410938             149.198772   \n",
       "min              0.000000           0.000000               0.000000   \n",
       "25%             52.000000         180.000000             252.000000   \n",
       "50%             70.000000         254.000000             327.000000   \n",
       "75%             89.000000         346.000000             420.000000   \n",
       "max           1160.000000        1194.000000            1200.000000   \n",
       "\n",
       "       DateAndTimeReturned      PumpOrder    DelayCodeId  \n",
       "count                  0.0  560529.000000  128158.000000  \n",
       "mean                   NaN       1.543378      10.584263  \n",
       "std                    NaN       0.916474       2.101057  \n",
       "min                    NaN       1.000000       3.000000  \n",
       "25%                    NaN       1.000000       9.000000  \n",
       "50%                    NaN       1.000000      12.000000  \n",
       "75%                    NaN       2.000000      12.000000  \n",
       "max                    NaN      13.000000      13.000000  "
      ]
     },
     "execution_count": 56,
     "metadata": {},
     "output_type": "execute_result"
    }
   ],
   "source": [
    "dfb.describe()"
   ]
  },
  {
   "cell_type": "code",
   "execution_count": 57,
   "metadata": {},
   "outputs": [
    {
     "name": "stdout",
     "output_type": "stream",
     "text": [
      "<class 'pandas.core.frame.DataFrame'>\n",
      "RangeIndex: 560529 entries, 0 to 560528\n",
      "Data columns (total 22 columns):\n",
      "IncidentNumber              560529 non-null object\n",
      "CalYear                     560529 non-null int64\n",
      "HourOfCall                  560529 non-null int64\n",
      "ResourceMobilisationId      560529 non-null int64\n",
      "Resource_Code               560529 non-null object\n",
      "PerformanceReporting        560529 non-null object\n",
      "DateAndTimeMobilised        560529 non-null object\n",
      "DateAndTimeMobile           558164 non-null object\n",
      "DateAndTimeArrived          560529 non-null object\n",
      "TurnoutTimeSeconds          558152 non-null float64\n",
      "TravelTimeSeconds           558148 non-null float64\n",
      "AttendanceTimeSeconds       560529 non-null int64\n",
      "DateAndTimeLeft             560292 non-null object\n",
      "DateAndTimeReturned         0 non-null float64\n",
      "DeployedFromStation_Code    560520 non-null object\n",
      "DeployedFromStation_Name    560520 non-null object\n",
      "DeployedFromLocation        560127 non-null object\n",
      "PumpOrder                   560529 non-null int64\n",
      "PlusCode_Code               560529 non-null object\n",
      "PlusCode_Description        560529 non-null object\n",
      "DelayCodeId                 128158 non-null float64\n",
      "DelayCode_Description       128158 non-null object\n",
      "dtypes: float64(4), int64(5), object(13)\n",
      "memory usage: 94.1+ MB\n"
     ]
    }
   ],
   "source": [
    "dfb.info()"
   ]
  },
  {
   "cell_type": "markdown",
   "metadata": {},
   "source": [
    "Constats :    \n",
    "* TravelTimeSeconds = DateAndTimeArrived - DateAndTimeMobile\n",
    "* TurnoutTimeSeconds = DateAndTimeMobile - DateAndTimeMobilised\n",
    "* AttendanceTimeSeconds = DateAndTimeArrived - DateAndTimeMobilised"
   ]
  },
  {
   "cell_type": "code",
   "execution_count": null,
   "metadata": {},
   "outputs": [],
   "source": []
  },
  {
   "cell_type": "code",
   "execution_count": 58,
   "metadata": {},
   "outputs": [
    {
     "data": {
      "image/png": "[encoded data removed]",
      "text/plain": [
       "<Figure size 432x288 with 1 Axes>"
      ]
     },
     "metadata": {
      "needs_background": "light"
     },
     "output_type": "display_data"
    }
   ],
   "source": [
    "sns.countplot(x='PerformanceReporting',data = dfb); "
   ]
  },
  {
   "cell_type": "code",
   "execution_count": null,
   "metadata": {},
   "outputs": [],
   "source": []
  },
  {
   "cell_type": "code",
   "execution_count": 59,
   "metadata": {},
   "outputs": [
    {
     "data": {
      "image/png": "[encoded data removed]",
      "text/plain": [
       "<Figure size 432x288 with 1 Axes>"
      ]
     },
     "metadata": {
      "needs_background": "light"
     },
     "output_type": "display_data"
    }
   ],
   "source": [
    "sns.countplot(x='DeployedFromLocation',data = dfb); "
   ]
  },
  {
   "cell_type": "code",
   "execution_count": 60,
   "metadata": {},
   "outputs": [
    {
     "data": {
      "text/plain": [
       "Home Station     96.640405\n",
       "Other Station     3.359595\n",
       "Name: DeployedFromLocation, dtype: float64"
      ]
     },
     "execution_count": 60,
     "metadata": {},
     "output_type": "execute_result"
    }
   ],
   "source": [
    "dfb['DeployedFromLocation'].value_counts(normalize=True)*100"
   ]
  },
  {
   "cell_type": "markdown",
   "metadata": {},
   "source": [
    "96% des mobilisations sont faite par les statitions qui reçoivent l'appel VS 3% par une autre."
   ]
  },
  {
   "cell_type": "code",
   "execution_count": null,
   "metadata": {},
   "outputs": [],
   "source": []
  },
  {
   "cell_type": "markdown",
   "metadata": {},
   "source": [
    "-Top 10 des station deployées."
   ]
  },
  {
   "cell_type": "code",
   "execution_count": 62,
   "metadata": {},
   "outputs": [
    {
     "data": {
      "text/plain": [
       "Soho                3.270356\n",
       "Paddington          2.377792\n",
       "Lambeth             2.040427\n",
       "North Kensington    1.989938\n",
       "Euston              1.822236\n",
       "Hammersmith         1.806894\n",
       "Kentish Town        1.767466\n",
       "Tottenham           1.753015\n",
       "Brixton             1.734282\n",
       "West Hampstead      1.732855\n",
       "Name: DeployedFromStation_Name, dtype: float64"
      ]
     },
     "execution_count": 62,
     "metadata": {},
     "output_type": "execute_result"
    }
   ],
   "source": [
    "(dfb['DeployedFromStation_Name'].value_counts(normalize=True)*100).head(10)"
   ]
  },
  {
   "cell_type": "code",
   "execution_count": null,
   "metadata": {},
   "outputs": [],
   "source": []
  },
  {
   "cell_type": "code",
   "execution_count": 63,
   "metadata": {},
   "outputs": [
    {
     "data": {
      "text/html": [
       "<div>\n",
       "<style scoped>\n",
       "    .dataframe tbody tr th:only-of-type {\n",
       "        vertical-align: middle;\n",
       "    }\n",
       "\n",
       "    .dataframe tbody tr th {\n",
       "        vertical-align: top;\n",
       "    }\n",
       "\n",
       "    .dataframe thead th {\n",
       "        text-align: right;\n",
       "    }\n",
       "</style>\n",
       "<table border=\"1\" class=\"dataframe\">\n",
       "  <thead>\n",
       "    <tr style=\"text-align: right;\">\n",
       "      <th></th>\n",
       "      <th>IncidentNumber</th>\n",
       "      <th>CalYear</th>\n",
       "      <th>HourOfCall</th>\n",
       "      <th>ResourceMobilisationId</th>\n",
       "      <th>Resource_Code</th>\n",
       "      <th>PerformanceReporting</th>\n",
       "      <th>DateAndTimeMobilised</th>\n",
       "      <th>DateAndTimeMobile</th>\n",
       "      <th>DateAndTimeArrived</th>\n",
       "      <th>TurnoutTimeSeconds</th>\n",
       "      <th>...</th>\n",
       "      <th>DateAndTimeLeft</th>\n",
       "      <th>DateAndTimeReturned</th>\n",
       "      <th>DeployedFromStation_Code</th>\n",
       "      <th>DeployedFromStation_Name</th>\n",
       "      <th>DeployedFromLocation</th>\n",
       "      <th>PumpOrder</th>\n",
       "      <th>PlusCode_Code</th>\n",
       "      <th>PlusCode_Description</th>\n",
       "      <th>DelayCodeId</th>\n",
       "      <th>DelayCode_Description</th>\n",
       "    </tr>\n",
       "  </thead>\n",
       "  <tbody>\n",
       "    <tr>\n",
       "      <td>0</td>\n",
       "      <td>000003-01012020</td>\n",
       "      <td>2020</td>\n",
       "      <td>0</td>\n",
       "      <td>5547476</td>\n",
       "      <td>G232</td>\n",
       "      <td>1</td>\n",
       "      <td>01/01/2020 00:06:30</td>\n",
       "      <td>01/01/2020 00:07:48</td>\n",
       "      <td>01/01/2020 00:11:54</td>\n",
       "      <td>78.0</td>\n",
       "      <td>...</td>\n",
       "      <td>01/01/2020 00:33:14</td>\n",
       "      <td>NaN</td>\n",
       "      <td>G23</td>\n",
       "      <td>Hillingdon</td>\n",
       "      <td>Home Station</td>\n",
       "      <td>1</td>\n",
       "      <td>Initial</td>\n",
       "      <td>Initial Mobilisation</td>\n",
       "      <td>NaN</td>\n",
       "      <td>NaN</td>\n",
       "    </tr>\n",
       "    <tr>\n",
       "      <td>1</td>\n",
       "      <td>000008-01012020</td>\n",
       "      <td>2020</td>\n",
       "      <td>0</td>\n",
       "      <td>5547478</td>\n",
       "      <td>H421</td>\n",
       "      <td>1</td>\n",
       "      <td>01/01/2020 00:11:05</td>\n",
       "      <td>01/01/2020 00:12:05</td>\n",
       "      <td>01/01/2020 00:14:20</td>\n",
       "      <td>60.0</td>\n",
       "      <td>...</td>\n",
       "      <td>01/01/2020 01:00:07</td>\n",
       "      <td>NaN</td>\n",
       "      <td>H42</td>\n",
       "      <td>Richmond</td>\n",
       "      <td>Home Station</td>\n",
       "      <td>1</td>\n",
       "      <td>Initial</td>\n",
       "      <td>Initial Mobilisation</td>\n",
       "      <td>NaN</td>\n",
       "      <td>NaN</td>\n",
       "    </tr>\n",
       "    <tr>\n",
       "      <td>2</td>\n",
       "      <td>000009-01012020</td>\n",
       "      <td>2020</td>\n",
       "      <td>0</td>\n",
       "      <td>5547479</td>\n",
       "      <td>A341</td>\n",
       "      <td>1</td>\n",
       "      <td>01/01/2020 00:11:16</td>\n",
       "      <td>01/01/2020 00:13:04</td>\n",
       "      <td>01/01/2020 00:18:22</td>\n",
       "      <td>108.0</td>\n",
       "      <td>...</td>\n",
       "      <td>01/01/2020 00:52:05</td>\n",
       "      <td>NaN</td>\n",
       "      <td>A34</td>\n",
       "      <td>Edmonton</td>\n",
       "      <td>Home Station</td>\n",
       "      <td>1</td>\n",
       "      <td>Initial</td>\n",
       "      <td>Initial Mobilisation</td>\n",
       "      <td>9.0</td>\n",
       "      <td>Traffic, roadworks, etc</td>\n",
       "    </tr>\n",
       "    <tr>\n",
       "      <td>3</td>\n",
       "      <td>000003-01012020</td>\n",
       "      <td>2020</td>\n",
       "      <td>0</td>\n",
       "      <td>5547480</td>\n",
       "      <td>G231</td>\n",
       "      <td>2</td>\n",
       "      <td>01/01/2020 00:11:33</td>\n",
       "      <td>01/01/2020 00:12:36</td>\n",
       "      <td>01/01/2020 00:16:25</td>\n",
       "      <td>63.0</td>\n",
       "      <td>...</td>\n",
       "      <td>01/01/2020 00:21:29</td>\n",
       "      <td>NaN</td>\n",
       "      <td>G23</td>\n",
       "      <td>Hillingdon</td>\n",
       "      <td>Home Station</td>\n",
       "      <td>2</td>\n",
       "      <td>Initial</td>\n",
       "      <td>Initial Mobilisation</td>\n",
       "      <td>NaN</td>\n",
       "      <td>NaN</td>\n",
       "    </tr>\n",
       "    <tr>\n",
       "      <td>4</td>\n",
       "      <td>000011-01012020</td>\n",
       "      <td>2020</td>\n",
       "      <td>0</td>\n",
       "      <td>5547482</td>\n",
       "      <td>H351</td>\n",
       "      <td>1</td>\n",
       "      <td>01/01/2020 00:12:02</td>\n",
       "      <td>01/01/2020 00:13:08</td>\n",
       "      <td>01/01/2020 00:16:11</td>\n",
       "      <td>66.0</td>\n",
       "      <td>...</td>\n",
       "      <td>01/01/2020 00:44:39</td>\n",
       "      <td>NaN</td>\n",
       "      <td>H35</td>\n",
       "      <td>Tooting</td>\n",
       "      <td>Home Station</td>\n",
       "      <td>1</td>\n",
       "      <td>Initial</td>\n",
       "      <td>Initial Mobilisation</td>\n",
       "      <td>NaN</td>\n",
       "      <td>NaN</td>\n",
       "    </tr>\n",
       "  </tbody>\n",
       "</table>\n",
       "<p>5 rows × 22 columns</p>\n",
       "</div>"
      ],
      "text/plain": [
       "    IncidentNumber  CalYear  HourOfCall  ResourceMobilisationId Resource_Code  \\\n",
       "0  000003-01012020     2020           0                 5547476          G232   \n",
       "1  000008-01012020     2020           0                 5547478          H421   \n",
       "2  000009-01012020     2020           0                 5547479          A341   \n",
       "3  000003-01012020     2020           0                 5547480          G231   \n",
       "4  000011-01012020     2020           0                 5547482          H351   \n",
       "\n",
       "  PerformanceReporting DateAndTimeMobilised    DateAndTimeMobile  \\\n",
       "0                    1  01/01/2020 00:06:30  01/01/2020 00:07:48   \n",
       "1                    1  01/01/2020 00:11:05  01/01/2020 00:12:05   \n",
       "2                    1  01/01/2020 00:11:16  01/01/2020 00:13:04   \n",
       "3                    2  01/01/2020 00:11:33  01/01/2020 00:12:36   \n",
       "4                    1  01/01/2020 00:12:02  01/01/2020 00:13:08   \n",
       "\n",
       "    DateAndTimeArrived  TurnoutTimeSeconds  ...      DateAndTimeLeft  \\\n",
       "0  01/01/2020 00:11:54                78.0  ...  01/01/2020 00:33:14   \n",
       "1  01/01/2020 00:14:20                60.0  ...  01/01/2020 01:00:07   \n",
       "2  01/01/2020 00:18:22               108.0  ...  01/01/2020 00:52:05   \n",
       "3  01/01/2020 00:16:25                63.0  ...  01/01/2020 00:21:29   \n",
       "4  01/01/2020 00:16:11                66.0  ...  01/01/2020 00:44:39   \n",
       "\n",
       "   DateAndTimeReturned DeployedFromStation_Code  DeployedFromStation_Name  \\\n",
       "0                  NaN                      G23                Hillingdon   \n",
       "1                  NaN                      H42                  Richmond   \n",
       "2                  NaN                      A34                  Edmonton   \n",
       "3                  NaN                      G23                Hillingdon   \n",
       "4                  NaN                      H35                   Tooting   \n",
       "\n",
       "  DeployedFromLocation PumpOrder PlusCode_Code  PlusCode_Description  \\\n",
       "0         Home Station         1       Initial  Initial Mobilisation   \n",
       "1         Home Station         1       Initial  Initial Mobilisation   \n",
       "2         Home Station         1       Initial  Initial Mobilisation   \n",
       "3         Home Station         2       Initial  Initial Mobilisation   \n",
       "4         Home Station         1       Initial  Initial Mobilisation   \n",
       "\n",
       "  DelayCodeId    DelayCode_Description  \n",
       "0         NaN                      NaN  \n",
       "1         NaN                      NaN  \n",
       "2         9.0  Traffic, roadworks, etc  \n",
       "3         NaN                      NaN  \n",
       "4         NaN                      NaN  \n",
       "\n",
       "[5 rows x 22 columns]"
      ]
     },
     "execution_count": 63,
     "metadata": {},
     "output_type": "execute_result"
    }
   ],
   "source": [
    "dfb.head()"
   ]
  },
  {
   "cell_type": "markdown",
   "metadata": {},
   "source": [
    "- Travaillons sur la base de mobilisation en vue de la jointer avec la base des incidents.\n",
    "Nous allons supprimer dans une premier temps les variables qui ne nous intéresse pas."
   ]
  },
  {
   "cell_type": "code",
   "execution_count": 3,
   "metadata": {},
   "outputs": [],
   "source": [
    "from datetime import datetime\n",
    "# conversion des dates afin de calculer une variables \n",
    "dfb['DateAndTimeArrived'] = pd.to_datetime(dfb['DateAndTimeArrived'])\n",
    "dfb['DateAndTimeLeft'] = pd.to_datetime(dfb['DateAndTimeLeft'])\n",
    "dfb['DateCalculer'] = dfb['DateAndTimeLeft'] - dfb['DateAndTimeArrived']"
   ]
  },
  {
   "cell_type": "code",
   "execution_count": 114,
   "metadata": {},
   "outputs": [],
   "source": [
    "dfb_drop=dfb.drop([\"CalYear\", \"HourOfCall\",\"ResourceMobilisationId\",\"DateAndTimeMobilised\",\"DateAndTimeMobile\",\"DateAndTimeArrived\",\"DateAndTimeLeft\",\"DateAndTimeReturned\",\"DateAndTimeReturned\"],axis = 1, inplace=True)dfb_drop=dfb.drop([\"CalYear\", \"HourOfCall\",\"ResourceMobilisationId\",\"DateAndTimeMobilised\",\"DateAndTimeMobile\",\"DateAndTimeArrived\",\"DateAndTimeLeft\",\"DateAndTimeReturned\",\"DateAndTimeReturned\"],axis = 1, inplace=True)"
   ]
  },
  {
   "cell_type": "code",
   "execution_count": 4,
   "metadata": {},
   "outputs": [
    {
     "data": {
      "text/html": [
       "<div>\n",
       "<style scoped>\n",
       "    .dataframe tbody tr th:only-of-type {\n",
       "        vertical-align: middle;\n",
       "    }\n",
       "\n",
       "    .dataframe tbody tr th {\n",
       "        vertical-align: top;\n",
       "    }\n",
       "\n",
       "    .dataframe thead th {\n",
       "        text-align: right;\n",
       "    }\n",
       "</style>\n",
       "<table border=\"1\" class=\"dataframe\">\n",
       "  <thead>\n",
       "    <tr style=\"text-align: right;\">\n",
       "      <th></th>\n",
       "      <th>IncidentNumber</th>\n",
       "      <th>CalYear</th>\n",
       "      <th>HourOfCall</th>\n",
       "      <th>ResourceMobilisationId</th>\n",
       "      <th>Resource_Code</th>\n",
       "      <th>PerformanceReporting</th>\n",
       "      <th>DateAndTimeMobilised</th>\n",
       "      <th>DateAndTimeMobile</th>\n",
       "      <th>DateAndTimeArrived</th>\n",
       "      <th>TurnoutTimeSeconds</th>\n",
       "      <th>...</th>\n",
       "      <th>DateAndTimeReturned</th>\n",
       "      <th>DeployedFromStation_Code</th>\n",
       "      <th>DeployedFromStation_Name</th>\n",
       "      <th>DeployedFromLocation</th>\n",
       "      <th>PumpOrder</th>\n",
       "      <th>PlusCode_Code</th>\n",
       "      <th>PlusCode_Description</th>\n",
       "      <th>DelayCodeId</th>\n",
       "      <th>DelayCode_Description</th>\n",
       "      <th>DateCalculer</th>\n",
       "    </tr>\n",
       "  </thead>\n",
       "  <tbody>\n",
       "    <tr>\n",
       "      <td>0</td>\n",
       "      <td>000003-01012020</td>\n",
       "      <td>2020</td>\n",
       "      <td>0</td>\n",
       "      <td>5547476</td>\n",
       "      <td>G232</td>\n",
       "      <td>1</td>\n",
       "      <td>01/01/2020 00:06:30</td>\n",
       "      <td>01/01/2020 00:07:48</td>\n",
       "      <td>2020-01-01 00:11:54</td>\n",
       "      <td>78.0</td>\n",
       "      <td>...</td>\n",
       "      <td>NaN</td>\n",
       "      <td>G23</td>\n",
       "      <td>Hillingdon</td>\n",
       "      <td>Home Station</td>\n",
       "      <td>1</td>\n",
       "      <td>Initial</td>\n",
       "      <td>Initial Mobilisation</td>\n",
       "      <td>NaN</td>\n",
       "      <td>NaN</td>\n",
       "      <td>00:21:20</td>\n",
       "    </tr>\n",
       "    <tr>\n",
       "      <td>1</td>\n",
       "      <td>000008-01012020</td>\n",
       "      <td>2020</td>\n",
       "      <td>0</td>\n",
       "      <td>5547478</td>\n",
       "      <td>H421</td>\n",
       "      <td>1</td>\n",
       "      <td>01/01/2020 00:11:05</td>\n",
       "      <td>01/01/2020 00:12:05</td>\n",
       "      <td>2020-01-01 00:14:20</td>\n",
       "      <td>60.0</td>\n",
       "      <td>...</td>\n",
       "      <td>NaN</td>\n",
       "      <td>H42</td>\n",
       "      <td>Richmond</td>\n",
       "      <td>Home Station</td>\n",
       "      <td>1</td>\n",
       "      <td>Initial</td>\n",
       "      <td>Initial Mobilisation</td>\n",
       "      <td>NaN</td>\n",
       "      <td>NaN</td>\n",
       "      <td>00:45:47</td>\n",
       "    </tr>\n",
       "    <tr>\n",
       "      <td>2</td>\n",
       "      <td>000009-01012020</td>\n",
       "      <td>2020</td>\n",
       "      <td>0</td>\n",
       "      <td>5547479</td>\n",
       "      <td>A341</td>\n",
       "      <td>1</td>\n",
       "      <td>01/01/2020 00:11:16</td>\n",
       "      <td>01/01/2020 00:13:04</td>\n",
       "      <td>2020-01-01 00:18:22</td>\n",
       "      <td>108.0</td>\n",
       "      <td>...</td>\n",
       "      <td>NaN</td>\n",
       "      <td>A34</td>\n",
       "      <td>Edmonton</td>\n",
       "      <td>Home Station</td>\n",
       "      <td>1</td>\n",
       "      <td>Initial</td>\n",
       "      <td>Initial Mobilisation</td>\n",
       "      <td>9.0</td>\n",
       "      <td>Traffic, roadworks, etc</td>\n",
       "      <td>00:33:43</td>\n",
       "    </tr>\n",
       "    <tr>\n",
       "      <td>3</td>\n",
       "      <td>000003-01012020</td>\n",
       "      <td>2020</td>\n",
       "      <td>0</td>\n",
       "      <td>5547480</td>\n",
       "      <td>G231</td>\n",
       "      <td>2</td>\n",
       "      <td>01/01/2020 00:11:33</td>\n",
       "      <td>01/01/2020 00:12:36</td>\n",
       "      <td>2020-01-01 00:16:25</td>\n",
       "      <td>63.0</td>\n",
       "      <td>...</td>\n",
       "      <td>NaN</td>\n",
       "      <td>G23</td>\n",
       "      <td>Hillingdon</td>\n",
       "      <td>Home Station</td>\n",
       "      <td>2</td>\n",
       "      <td>Initial</td>\n",
       "      <td>Initial Mobilisation</td>\n",
       "      <td>NaN</td>\n",
       "      <td>NaN</td>\n",
       "      <td>00:05:04</td>\n",
       "    </tr>\n",
       "    <tr>\n",
       "      <td>4</td>\n",
       "      <td>000011-01012020</td>\n",
       "      <td>2020</td>\n",
       "      <td>0</td>\n",
       "      <td>5547482</td>\n",
       "      <td>H351</td>\n",
       "      <td>1</td>\n",
       "      <td>01/01/2020 00:12:02</td>\n",
       "      <td>01/01/2020 00:13:08</td>\n",
       "      <td>2020-01-01 00:16:11</td>\n",
       "      <td>66.0</td>\n",
       "      <td>...</td>\n",
       "      <td>NaN</td>\n",
       "      <td>H35</td>\n",
       "      <td>Tooting</td>\n",
       "      <td>Home Station</td>\n",
       "      <td>1</td>\n",
       "      <td>Initial</td>\n",
       "      <td>Initial Mobilisation</td>\n",
       "      <td>NaN</td>\n",
       "      <td>NaN</td>\n",
       "      <td>00:28:28</td>\n",
       "    </tr>\n",
       "  </tbody>\n",
       "</table>\n",
       "<p>5 rows × 23 columns</p>\n",
       "</div>"
      ],
      "text/plain": [
       "    IncidentNumber  CalYear  HourOfCall  ResourceMobilisationId Resource_Code  \\\n",
       "0  000003-01012020     2020           0                 5547476          G232   \n",
       "1  000008-01012020     2020           0                 5547478          H421   \n",
       "2  000009-01012020     2020           0                 5547479          A341   \n",
       "3  000003-01012020     2020           0                 5547480          G231   \n",
       "4  000011-01012020     2020           0                 5547482          H351   \n",
       "\n",
       "  PerformanceReporting DateAndTimeMobilised    DateAndTimeMobile  \\\n",
       "0                    1  01/01/2020 00:06:30  01/01/2020 00:07:48   \n",
       "1                    1  01/01/2020 00:11:05  01/01/2020 00:12:05   \n",
       "2                    1  01/01/2020 00:11:16  01/01/2020 00:13:04   \n",
       "3                    2  01/01/2020 00:11:33  01/01/2020 00:12:36   \n",
       "4                    1  01/01/2020 00:12:02  01/01/2020 00:13:08   \n",
       "\n",
       "   DateAndTimeArrived  TurnoutTimeSeconds  ...  DateAndTimeReturned  \\\n",
       "0 2020-01-01 00:11:54                78.0  ...                  NaN   \n",
       "1 2020-01-01 00:14:20                60.0  ...                  NaN   \n",
       "2 2020-01-01 00:18:22               108.0  ...                  NaN   \n",
       "3 2020-01-01 00:16:25                63.0  ...                  NaN   \n",
       "4 2020-01-01 00:16:11                66.0  ...                  NaN   \n",
       "\n",
       "   DeployedFromStation_Code DeployedFromStation_Name  DeployedFromLocation  \\\n",
       "0                       G23               Hillingdon          Home Station   \n",
       "1                       H42                 Richmond          Home Station   \n",
       "2                       A34                 Edmonton          Home Station   \n",
       "3                       G23               Hillingdon          Home Station   \n",
       "4                       H35                  Tooting          Home Station   \n",
       "\n",
       "  PumpOrder PlusCode_Code  PlusCode_Description  DelayCodeId  \\\n",
       "0         1       Initial  Initial Mobilisation          NaN   \n",
       "1         1       Initial  Initial Mobilisation          NaN   \n",
       "2         1       Initial  Initial Mobilisation          9.0   \n",
       "3         2       Initial  Initial Mobilisation          NaN   \n",
       "4         1       Initial  Initial Mobilisation          NaN   \n",
       "\n",
       "     DelayCode_Description DateCalculer  \n",
       "0                      NaN     00:21:20  \n",
       "1                      NaN     00:45:47  \n",
       "2  Traffic, roadworks, etc     00:33:43  \n",
       "3                      NaN     00:05:04  \n",
       "4                      NaN     00:28:28  \n",
       "\n",
       "[5 rows x 23 columns]"
      ]
     },
     "execution_count": 4,
     "metadata": {},
     "output_type": "execute_result"
    }
   ],
   "source": [
    "dfb.head()"
   ]
  },
  {
   "cell_type": "code",
   "execution_count": null,
   "metadata": {},
   "outputs": [],
   "source": []
  }
 ],
 "metadata": {
  "kernelspec": {
   "display_name": "Python 3",
   "language": "python",
   "name": "python3"
  },
  "language_info": {
   "codemirror_mode": {
    "name": "ipython",
    "version": 3
   },
   "file_extension": ".py",
   "mimetype": "text/x-python",
   "name": "python",
   "nbconvert_exporter": "python",
   "pygments_lexer": "ipython3",
   "version": "3.7.4"
  }
 },
 "nbformat": 4,
 "nbformat_minor": 2
}
