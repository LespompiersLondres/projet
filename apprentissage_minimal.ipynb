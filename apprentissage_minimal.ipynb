{
 "cells": [
  {
   "cell_type": "code",
   "execution_count": 1,
   "id": "18533706-a9a4-4c8f-a540-0449a9696d13",
   "metadata": {},
   "outputs": [],
   "source": [
    "\n",
    "import numpy as np\n",
    "import pandas as pd\n",
    "from sklearn.model_selection import train_test_split\n",
    "from sklearn import neighbors\n",
    "from sklearn import svm\n",
    "from sklearn import ensemble\n",
    "from sklearn.metrics import accuracy_score\n",
    "from sklearn.ensemble import RandomForestRegressor\n",
    "\n",
    "#dataset issu de la fusion des datasets existants\n",
    "merged_df=pd.read_csv(\"/home/user/Bureau/dataScientest/projet_pompiers_Londres/data/merged_inner.csv\")\n",
    "\n",
    "\n",
    "\n",
    "target=merged_df['AttendanceTimeSeconds'] #variables cibles\n",
    "df_train=merged_df[['HourOfCall', 'CalYear']] #variables minimales d'après l'étude \n",
    "\n",
    "X_train, X_test, y_train, y_test = train_test_split(df_train, target, test_size=0.2)"
   ]
  },
  {
   "cell_type": "code",
   "execution_count": 2,
   "id": "a3dfa479-1d5f-45a5-8004-4ef303fdfddd",
   "metadata": {},
   "outputs": [
    {
     "name": "stdout",
     "output_type": "stream",
     "text": [
      "KNeighborsRegressor score: -0.011743462720978037\n"
     ]
    }
   ],
   "source": [
    "#Apprentissage par l'algorithme des K voisins\n",
    "score_knn=[]\n",
    "\n",
    "for k in range(2, 41):\n",
    "\tknn=neighbors.KNeighborsRegressor(n_neighbors=k)\n",
    "\tknn.fit(X_train, y_train)\n",
    "\tscore_knn.append(knn.score(X_test, y_test))\n",
    "\t\n",
    "\n",
    "y_knn = knn.predict(X_test)\n",
    "\n",
    "\n",
    "knn_score = knn.score(X_train, y_train)\n",
    "print(\"KNeighborsRegressor score:\", knn_score) "
   ]
  },
  {
   "cell_type": "code",
   "execution_count": 3,
   "id": "b6204159-329f-461b-bce3-51ad7b7e60bc",
   "metadata": {},
   "outputs": [
    {
     "name": "stdout",
     "output_type": "stream",
     "text": [
      "RandomForestRegressor score: 0.007315702371841537\n"
     ]
    }
   ],
   "source": [
    "#Apprentissage par l'algorithme random forest\n",
    "clf = RandomForestRegressor(max_depth=2, random_state=0)\n",
    "clf.fit(X_train, y_train)\n",
    "\n",
    "y_randomForest = clf.predict(X_test)\n",
    "\n",
    "randomForest_score = clf.score(X_train, y_train)\n",
    "print(\"RandomForestRegressor score:\", randomForest_score) "
   ]
  },
  {
   "cell_type": "code",
   "execution_count": 4,
   "id": "992c9379-c337-4bad-9adc-a9914b26b816",
   "metadata": {},
   "outputs": [
    {
     "name": "stdout",
     "output_type": "stream",
     "text": [
      "Des 2 algorithmes testés, il n'y en pas qui fournisse de résultat satisfaisant\n"
     ]
    }
   ],
   "source": [
    "print('Des 2 algorithmes testés, il n\\'y en pas qui fournisse de résultat satisfaisant')"
   ]
  }
 ],
 "metadata": {
  "kernelspec": {
   "display_name": "Python 3 (ipykernel)",
   "language": "python",
   "name": "python3"
  },
  "language_info": {
   "codemirror_mode": {
    "name": "ipython",
    "version": 3
   },
   "file_extension": ".py",
   "mimetype": "text/x-python",
   "name": "python",
   "nbconvert_exporter": "python",
   "pygments_lexer": "ipython3",
   "version": "3.10.12"
  }
 },
 "nbformat": 4,
 "nbformat_minor": 5
}
