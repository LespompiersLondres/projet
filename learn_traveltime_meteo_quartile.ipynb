{
 "cells": [
  {
   "cell_type": "code",
   "execution_count": 8,
   "id": "c4ab05eb-b5e0-4d3a-affd-e3f7d5166ac0",
   "metadata": {},
   "outputs": [],
   "source": [
    "import numpy as np\n",
    "import pandas as pd\n",
    "from sklearn.model_selection import train_test_split\n",
    "from sklearn import neighbors\n",
    "from sklearn import svm\n",
    "from sklearn import ensemble\n",
    "from sklearn.metrics import accuracy_score\n",
    "from sklearn.ensemble import RandomForestRegressor\n",
    "\n",
    "merged_df=pd.read_csv(\"/home/user/Bureau/dataScientest/projet_pompiers_Londres/data/merged_traveltime_meteo.csv\")\n",
    "#elimination de variables ayant trop de NaN\n",
    "merged_df=merged_df[['cloud_cover', 'sunshine', 'mean_temp', 'precipitation', 'CalYear', 'HourOfCall', 'TravelTimeSeconds']]\n",
    "#elimination des NaN restant\n",
    "merged_df=merged_df.dropna()\n",
    "\n",
    "target=merged_df['TravelTimeSeconds']\n",
    "df_train=merged_df[['cloud_cover', 'sunshine', 'mean_temp', 'precipitation', 'CalYear', 'HourOfCall']]\n",
    "\n",
    "X_train, X_test, y_train, y_test = train_test_split(df_train, target, test_size=0.2)\n",
    "\n",
    "\n",
    "# Concaténer X_train et y_train pour manipuler les données plus facilement\n",
    "train_data = pd.concat([X_train, y_train], axis=1)\n",
    "\n",
    "# Diviser la variable cible en quartiles\n",
    "num_quartiles = 4  # Diviser en 4 quartiles\n",
    "\n",
    "# Utilisation de la fonction qcut de Pandas pour diviser la cible en quartiles\n",
    "train_data['target_quartile'] = pd.qcut(train_data[target.name], num_quartiles, labels=False)\n",
    "\n",
    "#Récupérer X_train et y_train avec la variable cible divisée en quartiles:\n",
    "X_train = train_data.drop([target.name, 'target_quartile'], axis=1)\n",
    "y_train = train_data['target_quartile']"
   ]
  },
  {
   "cell_type": "code",
   "execution_count": 9,
   "id": "f862df09-7954-40e8-9afa-601f15fbc9b5",
   "metadata": {},
   "outputs": [
    {
     "data": {
      "text/plain": [
       "145142"
      ]
     },
     "execution_count": 9,
     "metadata": {},
     "output_type": "execute_result"
    }
   ],
   "source": [
    "len(merged_df)"
   ]
  },
  {
   "cell_type": "code",
   "execution_count": 10,
   "id": "2ce94cba-a566-4bcb-873b-c87ce3e812af",
   "metadata": {},
   "outputs": [
    {
     "name": "stdout",
     "output_type": "stream",
     "text": [
      "KNeighborsRegressor score: 0.059726369337752216\n"
     ]
    }
   ],
   "source": [
    "score_knn=[]\n",
    "\n",
    "for k in range(2, 41):\n",
    "\tknn=neighbors.KNeighborsRegressor(n_neighbors=k)\n",
    "\tknn.fit(X_train, y_train)\n",
    "\tscore_knn.append(knn.score(X_test, y_test))\n",
    "\t\n",
    "\n",
    "y_knn = knn.predict(X_test)\n",
    "\n",
    "\n",
    "knn_score = knn.score(X_train, y_train)\n",
    "print(\"KNeighborsRegressor score:\", knn_score) "
   ]
  },
  {
   "cell_type": "code",
   "execution_count": 11,
   "id": "bbd29bc2-bbff-47ce-9637-c9bf2ab50b11",
   "metadata": {},
   "outputs": [
    {
     "name": "stdout",
     "output_type": "stream",
     "text": [
      "RandomForestRegressor score: 0.011188412119268465\n"
     ]
    }
   ],
   "source": [
    "clf = RandomForestRegressor(max_depth=2, random_state=0)\n",
    "clf.fit(X_train, y_train)\n",
    "\n",
    "y_randomForest = clf.predict(X_test)\n",
    "\n",
    "randomForest_score = clf.score(X_train, y_train)\n",
    "print(\"RandomForestRegressor score:\", randomForest_score) "
   ]
  }
 ],
 "metadata": {
  "kernelspec": {
   "display_name": "Python 3 (ipykernel)",
   "language": "python",
   "name": "python3"
  },
  "language_info": {
   "codemirror_mode": {
    "name": "ipython",
    "version": 3
   },
   "file_extension": ".py",
   "mimetype": "text/x-python",
   "name": "python",
   "nbconvert_exporter": "python",
   "pygments_lexer": "ipython3",
   "version": "3.10.12"
  }
 },
 "nbformat": 4,
 "nbformat_minor": 5
}
